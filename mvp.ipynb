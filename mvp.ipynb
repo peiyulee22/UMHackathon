{
 "cells": [
  {
   "cell_type": "markdown",
   "id": "545548cc",
   "metadata": {},
   "source": [
    "Load Data Check Data whether is null or not"
   ]
  },
  {
   "cell_type": "code",
   "execution_count": 16,
   "id": "ed922d7a",
   "metadata": {},
   "outputs": [
    {
     "name": "stdout",
     "output_type": "stream",
     "text": [
      "Requirement already satisfied: cybotrade_datasource in c:\\users\\scsm11\\anaconda3\\envs\\streamlitenv\\lib\\site-packages (0.1.1)\n",
      "Requirement already satisfied: python-dotenv in c:\\users\\scsm11\\anaconda3\\envs\\streamlitenv\\lib\\site-packages (1.1.0)\n",
      "['__builtins__', '__cached__', '__doc__', '__file__', '__loader__', '__name__', '__package__', '__path__', '__spec__', 'cybotrade_datasource', 'query', 'query_paginated', 'stream']\n",
      "DataFrame 1 (bybit-linear|candle?symbol=BTCUSDT&interval=1m)\n",
      "<bound method NDFrame.head of          start_time    close     high      low     open   volume\n",
      "0     1743661080000  83221.0  83221.0  83172.5  83172.5   19.973\n",
      "1     1743661140000  83237.9  83241.7  83221.0  83221.0   14.043\n",
      "2     1743661200000  83200.0  83267.5  83200.0  83237.9  116.382\n",
      "3     1743661260000  83267.5  83267.5  83200.0  83200.0   23.131\n",
      "4     1743661320000  83304.5  83350.0  83267.4  83267.5   35.424\n",
      "...             ...      ...      ...      ...      ...      ...\n",
      "9995  1744260780000  81913.0  81921.6  81887.2  81921.5   25.376\n",
      "9996  1744260840000  81943.3  81969.5  81913.0  81913.0   34.363\n",
      "9997  1744260900000  81940.5  81955.6  81932.0  81943.3   34.894\n",
      "9998  1744260960000  82000.1  82079.6  81940.5  81940.5  191.739\n",
      "9999  1744261020000  81974.9  82000.2  81957.8  82000.1   25.968\n",
      "\n",
      "[10000 rows x 6 columns]>\n",
      "start_time    0\n",
      "close         0\n",
      "high          0\n",
      "low           0\n",
      "open          0\n",
      "volume        0\n",
      "dtype: int64\n"
     ]
    }
   ],
   "source": [
    "!pip install cybotrade_datasource\n",
    "!pip install python-dotenv\n",
    "\n",
    "import pandas as pd\n",
    "import numpy as np\n",
    "import asyncio\n",
    "import cybotrade_datasource\n",
    "from datetime import datetime, timezone\n",
    "from dotenv import load_dotenv\n",
    "import os\n",
    "\n",
    "import warnings as wr\n",
    "wr.filterwarnings('ignore')\n",
    "\n",
    "print(dir(cybotrade_datasource))\n",
    "\n",
    "load_dotenv()\n",
    "\n",
    "API_KEY = os.getenv('CYBOTRADE_API_KEY')\n",
    "\n",
    "'''\n",
    "async def main():\n",
    "    data = await cybotrade_datasource.query_paginated(\n",
    "        api_key=API_KEY, \n",
    "        topic='cryptoquant|btc/inter-entity-flows/miner-to-miner?from_miner=f2pool&to_miner=all_miner&window=hour', \n",
    "        start_time=datetime(year=2024, month=1, day=1, tzinfo=timezone.utc),\n",
    "        end_time=datetime(year=2025, month=1, day=1, tzinfo=timezone.utc)\n",
    "    )\n",
    "    df = pd.DataFrame(data)\n",
    "    print(df)\n",
    "    \n",
    "\n",
    "await main()\n",
    "'''\n",
    "\n",
    "'''\n",
    "async def main():\n",
    "    stream = await cybotrade_datasource.stream(\n",
    "        api_key=API_KEY,\n",
    "        topics=[\n",
    "            'cryptoquant|btc/inter-entity-flows/miner-to-miner?from_miner=f2pool&to_miner=all_miner&window=hour',\n",
    "            'cryptoquant|btc/market-data/liquidations?exchange=deribit&window=min',\n",
    "        ],\n",
    "    )\n",
    "    async for msg in stream:\n",
    "        print(msg)\n",
    "    \n",
    "\n",
    "await main()\n",
    "'''\n",
    "\n",
    "global_df = None \n",
    "\n",
    "async def get_data(topic):\n",
    "    data = await cybotrade_datasource.query_paginated(\n",
    "        api_key=API_KEY, \n",
    "        topic=topic, \n",
    "        limit=10000\n",
    "    )\n",
    "    return pd.DataFrame(data)\n",
    "\n",
    "\n",
    "async def main():\n",
    "    global global_df\n",
    "\n",
    "    topics = [\n",
    "        \"bybit-linear|candle?symbol=BTCUSDT&interval=1m\",\n",
    "    ]\n",
    "\n",
    "#topic\n",
    "#\"cryptoquant|btc/market-data/open-interest?exchange=bybit&window=min\",\n",
    "#bybit-linear|candle?interval=1m&symbol=BTCUSDT\n",
    "#\"cryptoquant|btc/market-data/coinbase-premium-index?window=hour\",\n",
    "#\"cryptoquant|btc/exchange-flows/outflow?exchange=coinbase_advanced&window=hour\",\n",
    "#\"glassnode|market/deltacap_usd?a=BTC&i=10m\",\n",
    "\n",
    "    tasks = [get_data(topic) for topic in topics]\n",
    "    dataframes = await asyncio.gather(*tasks)\n",
    "\n",
    "    for i, df in enumerate(dataframes):\n",
    "        print(f\"DataFrame {i+1} ({topics[i]})\")\n",
    "        print(df.head)\n",
    "        print(df.isnull().sum())\n",
    "        global_df = df\n",
    "\n",
    "await main()\n"
   ]
  },
  {
   "cell_type": "markdown",
   "id": "bf795165",
   "metadata": {},
   "source": [
    "Display first five column of the dataframe"
   ]
  },
  {
   "cell_type": "code",
   "execution_count": 17,
   "id": "a78ed0d7",
   "metadata": {},
   "outputs": [
    {
     "name": "stdout",
     "output_type": "stream",
     "text": [
      "         start_time    close     high      low     open   volume\n",
      "0     1743661080000  83221.0  83221.0  83172.5  83172.5   19.973\n",
      "1     1743661140000  83237.9  83241.7  83221.0  83221.0   14.043\n",
      "2     1743661200000  83200.0  83267.5  83200.0  83237.9  116.382\n",
      "3     1743661260000  83267.5  83267.5  83200.0  83200.0   23.131\n",
      "4     1743661320000  83304.5  83350.0  83267.4  83267.5   35.424\n",
      "...             ...      ...      ...      ...      ...      ...\n",
      "9995  1744260780000  81913.0  81921.6  81887.2  81921.5   25.376\n",
      "9996  1744260840000  81943.3  81969.5  81913.0  81913.0   34.363\n",
      "9997  1744260900000  81940.5  81955.6  81932.0  81943.3   34.894\n",
      "9998  1744260960000  82000.1  82079.6  81940.5  81940.5  191.739\n",
      "9999  1744261020000  81974.9  82000.2  81957.8  82000.1   25.968\n",
      "\n",
      "[10000 rows x 6 columns]\n"
     ]
    }
   ],
   "source": [
    "print(global_df)"
   ]
  },
  {
   "cell_type": "markdown",
   "id": "828155df",
   "metadata": {},
   "source": [
    "Analyze Data (first five and last five)"
   ]
  },
  {
   "cell_type": "code",
   "execution_count": 18,
   "id": "86afdd15",
   "metadata": {},
   "outputs": [
    {
     "data": {
      "text/html": [
       "<div>\n",
       "<style scoped>\n",
       "    .dataframe tbody tr th:only-of-type {\n",
       "        vertical-align: middle;\n",
       "    }\n",
       "\n",
       "    .dataframe tbody tr th {\n",
       "        vertical-align: top;\n",
       "    }\n",
       "\n",
       "    .dataframe thead th {\n",
       "        text-align: right;\n",
       "    }\n",
       "</style>\n",
       "<table border=\"1\" class=\"dataframe\">\n",
       "  <thead>\n",
       "    <tr style=\"text-align: right;\">\n",
       "      <th></th>\n",
       "      <th>start_time</th>\n",
       "      <th>close</th>\n",
       "      <th>high</th>\n",
       "      <th>low</th>\n",
       "      <th>open</th>\n",
       "      <th>volume</th>\n",
       "    </tr>\n",
       "  </thead>\n",
       "  <tbody>\n",
       "    <tr>\n",
       "      <th>0</th>\n",
       "      <td>1743661080000</td>\n",
       "      <td>83221.0</td>\n",
       "      <td>83221.0</td>\n",
       "      <td>83172.5</td>\n",
       "      <td>83172.5</td>\n",
       "      <td>19.973</td>\n",
       "    </tr>\n",
       "    <tr>\n",
       "      <th>1</th>\n",
       "      <td>1743661140000</td>\n",
       "      <td>83237.9</td>\n",
       "      <td>83241.7</td>\n",
       "      <td>83221.0</td>\n",
       "      <td>83221.0</td>\n",
       "      <td>14.043</td>\n",
       "    </tr>\n",
       "    <tr>\n",
       "      <th>2</th>\n",
       "      <td>1743661200000</td>\n",
       "      <td>83200.0</td>\n",
       "      <td>83267.5</td>\n",
       "      <td>83200.0</td>\n",
       "      <td>83237.9</td>\n",
       "      <td>116.382</td>\n",
       "    </tr>\n",
       "    <tr>\n",
       "      <th>3</th>\n",
       "      <td>1743661260000</td>\n",
       "      <td>83267.5</td>\n",
       "      <td>83267.5</td>\n",
       "      <td>83200.0</td>\n",
       "      <td>83200.0</td>\n",
       "      <td>23.131</td>\n",
       "    </tr>\n",
       "    <tr>\n",
       "      <th>4</th>\n",
       "      <td>1743661320000</td>\n",
       "      <td>83304.5</td>\n",
       "      <td>83350.0</td>\n",
       "      <td>83267.4</td>\n",
       "      <td>83267.5</td>\n",
       "      <td>35.424</td>\n",
       "    </tr>\n",
       "  </tbody>\n",
       "</table>\n",
       "</div>"
      ],
      "text/plain": [
       "      start_time    close     high      low     open   volume\n",
       "0  1743661080000  83221.0  83221.0  83172.5  83172.5   19.973\n",
       "1  1743661140000  83237.9  83241.7  83221.0  83221.0   14.043\n",
       "2  1743661200000  83200.0  83267.5  83200.0  83237.9  116.382\n",
       "3  1743661260000  83267.5  83267.5  83200.0  83200.0   23.131\n",
       "4  1743661320000  83304.5  83350.0  83267.4  83267.5   35.424"
      ]
     },
     "execution_count": 18,
     "metadata": {},
     "output_type": "execute_result"
    }
   ],
   "source": [
    "global_df.head()"
   ]
  },
  {
   "cell_type": "code",
   "execution_count": 19,
   "id": "78d045fd",
   "metadata": {},
   "outputs": [
    {
     "data": {
      "text/html": [
       "<div>\n",
       "<style scoped>\n",
       "    .dataframe tbody tr th:only-of-type {\n",
       "        vertical-align: middle;\n",
       "    }\n",
       "\n",
       "    .dataframe tbody tr th {\n",
       "        vertical-align: top;\n",
       "    }\n",
       "\n",
       "    .dataframe thead th {\n",
       "        text-align: right;\n",
       "    }\n",
       "</style>\n",
       "<table border=\"1\" class=\"dataframe\">\n",
       "  <thead>\n",
       "    <tr style=\"text-align: right;\">\n",
       "      <th></th>\n",
       "      <th>start_time</th>\n",
       "      <th>close</th>\n",
       "      <th>high</th>\n",
       "      <th>low</th>\n",
       "      <th>open</th>\n",
       "      <th>volume</th>\n",
       "    </tr>\n",
       "  </thead>\n",
       "  <tbody>\n",
       "    <tr>\n",
       "      <th>9995</th>\n",
       "      <td>1744260780000</td>\n",
       "      <td>81913.0</td>\n",
       "      <td>81921.6</td>\n",
       "      <td>81887.2</td>\n",
       "      <td>81921.5</td>\n",
       "      <td>25.376</td>\n",
       "    </tr>\n",
       "    <tr>\n",
       "      <th>9996</th>\n",
       "      <td>1744260840000</td>\n",
       "      <td>81943.3</td>\n",
       "      <td>81969.5</td>\n",
       "      <td>81913.0</td>\n",
       "      <td>81913.0</td>\n",
       "      <td>34.363</td>\n",
       "    </tr>\n",
       "    <tr>\n",
       "      <th>9997</th>\n",
       "      <td>1744260900000</td>\n",
       "      <td>81940.5</td>\n",
       "      <td>81955.6</td>\n",
       "      <td>81932.0</td>\n",
       "      <td>81943.3</td>\n",
       "      <td>34.894</td>\n",
       "    </tr>\n",
       "    <tr>\n",
       "      <th>9998</th>\n",
       "      <td>1744260960000</td>\n",
       "      <td>82000.1</td>\n",
       "      <td>82079.6</td>\n",
       "      <td>81940.5</td>\n",
       "      <td>81940.5</td>\n",
       "      <td>191.739</td>\n",
       "    </tr>\n",
       "    <tr>\n",
       "      <th>9999</th>\n",
       "      <td>1744261020000</td>\n",
       "      <td>81974.9</td>\n",
       "      <td>82000.2</td>\n",
       "      <td>81957.8</td>\n",
       "      <td>82000.1</td>\n",
       "      <td>25.968</td>\n",
       "    </tr>\n",
       "  </tbody>\n",
       "</table>\n",
       "</div>"
      ],
      "text/plain": [
       "         start_time    close     high      low     open   volume\n",
       "9995  1744260780000  81913.0  81921.6  81887.2  81921.5   25.376\n",
       "9996  1744260840000  81943.3  81969.5  81913.0  81913.0   34.363\n",
       "9997  1744260900000  81940.5  81955.6  81932.0  81943.3   34.894\n",
       "9998  1744260960000  82000.1  82079.6  81940.5  81940.5  191.739\n",
       "9999  1744261020000  81974.9  82000.2  81957.8  82000.1   25.968"
      ]
     },
     "execution_count": 19,
     "metadata": {},
     "output_type": "execute_result"
    }
   ],
   "source": [
    "global_df.tail()"
   ]
  },
  {
   "cell_type": "code",
   "execution_count": 20,
   "id": "8595ee93",
   "metadata": {},
   "outputs": [
    {
     "data": {
      "text/plain": [
       "(10000, 6)"
      ]
     },
     "execution_count": 20,
     "metadata": {},
     "output_type": "execute_result"
    }
   ],
   "source": [
    "global_df.shape"
   ]
  },
  {
   "cell_type": "code",
   "execution_count": 21,
   "id": "81969534",
   "metadata": {},
   "outputs": [
    {
     "name": "stdout",
     "output_type": "stream",
     "text": [
      "10000\n"
     ]
    }
   ],
   "source": [
    "num_rows = len(global_df)\n",
    "print(num_rows)"
   ]
  },
  {
   "cell_type": "markdown",
   "id": "d1c7a0e6",
   "metadata": {},
   "source": [
    "We had 10000 rows in this dataset (latest)"
   ]
  },
  {
   "cell_type": "code",
   "execution_count": 22,
   "id": "6fd811af",
   "metadata": {},
   "outputs": [
    {
     "name": "stdout",
     "output_type": "stream",
     "text": [
      "Categorical Variables:\n",
      "Index([], dtype='object')\n",
      "Numerical Variables:\n",
      "['start_time', 'close', 'high', 'low', 'open', 'volume']\n"
     ]
    }
   ],
   "source": [
    "cat_cols = global_df.select_dtypes(include=['object']).columns\n",
    "num_cols = global_df.select_dtypes(include=np.number).columns.tolist()\n",
    "print(\"Categorical Variables:\")\n",
    "print(cat_cols)\n",
    "print(\"Numerical Variables:\")\n",
    "print(num_cols)"
   ]
  },
  {
   "cell_type": "code",
   "execution_count": 23,
   "id": "200c03ac",
   "metadata": {},
   "outputs": [
    {
     "name": "stdout",
     "output_type": "stream",
     "text": [
      "<class 'pandas.core.frame.DataFrame'>\n",
      "RangeIndex: 10000 entries, 0 to 9999\n",
      "Data columns (total 6 columns):\n",
      " #   Column      Non-Null Count  Dtype  \n",
      "---  ------      --------------  -----  \n",
      " 0   start_time  10000 non-null  int64  \n",
      " 1   close       10000 non-null  float64\n",
      " 2   high        10000 non-null  float64\n",
      " 3   low         10000 non-null  float64\n",
      " 4   open        10000 non-null  float64\n",
      " 5   volume      10000 non-null  float64\n",
      "dtypes: float64(5), int64(1)\n",
      "memory usage: 468.9 KB\n"
     ]
    }
   ],
   "source": [
    "global_df.info()"
   ]
  },
  {
   "cell_type": "markdown",
   "id": "66166020",
   "metadata": {},
   "source": [
    "Obtain a statistical summary of the dataframe using describe"
   ]
  },
  {
   "cell_type": "code",
   "execution_count": 24,
   "id": "cf746f02",
   "metadata": {},
   "outputs": [
    {
     "data": {
      "text/html": [
       "<div>\n",
       "<style scoped>\n",
       "    .dataframe tbody tr th:only-of-type {\n",
       "        vertical-align: middle;\n",
       "    }\n",
       "\n",
       "    .dataframe tbody tr th {\n",
       "        vertical-align: top;\n",
       "    }\n",
       "\n",
       "    .dataframe thead th {\n",
       "        text-align: right;\n",
       "    }\n",
       "</style>\n",
       "<table border=\"1\" class=\"dataframe\">\n",
       "  <thead>\n",
       "    <tr style=\"text-align: right;\">\n",
       "      <th></th>\n",
       "      <th>start_time</th>\n",
       "      <th>close</th>\n",
       "      <th>high</th>\n",
       "      <th>low</th>\n",
       "      <th>open</th>\n",
       "      <th>volume</th>\n",
       "    </tr>\n",
       "  </thead>\n",
       "  <tbody>\n",
       "    <tr>\n",
       "      <th>count</th>\n",
       "      <td>1.000000e+04</td>\n",
       "      <td>10000.00000</td>\n",
       "      <td>10000.000000</td>\n",
       "      <td>10000.000000</td>\n",
       "      <td>10000.000000</td>\n",
       "      <td>10000.000000</td>\n",
       "    </tr>\n",
       "    <tr>\n",
       "      <th>mean</th>\n",
       "      <td>1.743961e+12</td>\n",
       "      <td>80826.77586</td>\n",
       "      <td>80875.515700</td>\n",
       "      <td>80779.621850</td>\n",
       "      <td>80826.895620</td>\n",
       "      <td>117.012722</td>\n",
       "    </tr>\n",
       "    <tr>\n",
       "      <th>std</th>\n",
       "      <td>1.732137e+08</td>\n",
       "      <td>2705.14478</td>\n",
       "      <td>2687.784589</td>\n",
       "      <td>2722.349706</td>\n",
       "      <td>2705.222122</td>\n",
       "      <td>205.516421</td>\n",
       "    </tr>\n",
       "    <tr>\n",
       "      <th>min</th>\n",
       "      <td>1.743661e+12</td>\n",
       "      <td>74584.20000</td>\n",
       "      <td>74702.500000</td>\n",
       "      <td>74456.200000</td>\n",
       "      <td>74584.200000</td>\n",
       "      <td>0.946000</td>\n",
       "    </tr>\n",
       "    <tr>\n",
       "      <th>25%</th>\n",
       "      <td>1.743811e+12</td>\n",
       "      <td>78393.05000</td>\n",
       "      <td>78466.475000</td>\n",
       "      <td>78304.550000</td>\n",
       "      <td>78393.050000</td>\n",
       "      <td>25.769500</td>\n",
       "    </tr>\n",
       "    <tr>\n",
       "      <th>50%</th>\n",
       "      <td>1.743961e+12</td>\n",
       "      <td>82133.95000</td>\n",
       "      <td>82187.000000</td>\n",
       "      <td>82063.450000</td>\n",
       "      <td>82134.150000</td>\n",
       "      <td>58.804500</td>\n",
       "    </tr>\n",
       "    <tr>\n",
       "      <th>75%</th>\n",
       "      <td>1.744111e+12</td>\n",
       "      <td>83100.00000</td>\n",
       "      <td>83139.400000</td>\n",
       "      <td>83067.725000</td>\n",
       "      <td>83100.025000</td>\n",
       "      <td>129.974000</td>\n",
       "    </tr>\n",
       "    <tr>\n",
       "      <th>max</th>\n",
       "      <td>1.744261e+12</td>\n",
       "      <td>84670.20000</td>\n",
       "      <td>84736.000000</td>\n",
       "      <td>84656.100000</td>\n",
       "      <td>84670.200000</td>\n",
       "      <td>4595.508000</td>\n",
       "    </tr>\n",
       "  </tbody>\n",
       "</table>\n",
       "</div>"
      ],
      "text/plain": [
       "         start_time        close          high           low          open  \\\n",
       "count  1.000000e+04  10000.00000  10000.000000  10000.000000  10000.000000   \n",
       "mean   1.743961e+12  80826.77586  80875.515700  80779.621850  80826.895620   \n",
       "std    1.732137e+08   2705.14478   2687.784589   2722.349706   2705.222122   \n",
       "min    1.743661e+12  74584.20000  74702.500000  74456.200000  74584.200000   \n",
       "25%    1.743811e+12  78393.05000  78466.475000  78304.550000  78393.050000   \n",
       "50%    1.743961e+12  82133.95000  82187.000000  82063.450000  82134.150000   \n",
       "75%    1.744111e+12  83100.00000  83139.400000  83067.725000  83100.025000   \n",
       "max    1.744261e+12  84670.20000  84736.000000  84656.100000  84670.200000   \n",
       "\n",
       "             volume  \n",
       "count  10000.000000  \n",
       "mean     117.012722  \n",
       "std      205.516421  \n",
       "min        0.946000  \n",
       "25%       25.769500  \n",
       "50%       58.804500  \n",
       "75%      129.974000  \n",
       "max     4595.508000  "
      ]
     },
     "execution_count": 24,
     "metadata": {},
     "output_type": "execute_result"
    }
   ],
   "source": [
    "global_df.describe()"
   ]
  },
  {
   "cell_type": "code",
   "execution_count": 26,
   "id": "86fd0ca9",
   "metadata": {},
   "outputs": [
    {
     "data": {
      "text/html": [
       "<div>\n",
       "<style scoped>\n",
       "    .dataframe tbody tr th:only-of-type {\n",
       "        vertical-align: middle;\n",
       "    }\n",
       "\n",
       "    .dataframe tbody tr th {\n",
       "        vertical-align: top;\n",
       "    }\n",
       "\n",
       "    .dataframe thead th {\n",
       "        text-align: right;\n",
       "    }\n",
       "</style>\n",
       "<table border=\"1\" class=\"dataframe\">\n",
       "  <thead>\n",
       "    <tr style=\"text-align: right;\">\n",
       "      <th></th>\n",
       "      <th>start_time</th>\n",
       "      <th>close</th>\n",
       "      <th>high</th>\n",
       "      <th>low</th>\n",
       "      <th>open</th>\n",
       "      <th>volume</th>\n",
       "    </tr>\n",
       "  </thead>\n",
       "  <tbody>\n",
       "    <tr>\n",
       "      <th>count</th>\n",
       "      <td>1.000000e+04</td>\n",
       "      <td>10000.00000</td>\n",
       "      <td>10000.000000</td>\n",
       "      <td>10000.000000</td>\n",
       "      <td>10000.000000</td>\n",
       "      <td>10000.000000</td>\n",
       "    </tr>\n",
       "    <tr>\n",
       "      <th>mean</th>\n",
       "      <td>1.743961e+12</td>\n",
       "      <td>80826.77586</td>\n",
       "      <td>80875.515700</td>\n",
       "      <td>80779.621850</td>\n",
       "      <td>80826.895620</td>\n",
       "      <td>117.012722</td>\n",
       "    </tr>\n",
       "    <tr>\n",
       "      <th>std</th>\n",
       "      <td>1.732137e+08</td>\n",
       "      <td>2705.14478</td>\n",
       "      <td>2687.784589</td>\n",
       "      <td>2722.349706</td>\n",
       "      <td>2705.222122</td>\n",
       "      <td>205.516421</td>\n",
       "    </tr>\n",
       "    <tr>\n",
       "      <th>min</th>\n",
       "      <td>1.743661e+12</td>\n",
       "      <td>74584.20000</td>\n",
       "      <td>74702.500000</td>\n",
       "      <td>74456.200000</td>\n",
       "      <td>74584.200000</td>\n",
       "      <td>0.946000</td>\n",
       "    </tr>\n",
       "    <tr>\n",
       "      <th>25%</th>\n",
       "      <td>1.743811e+12</td>\n",
       "      <td>78393.05000</td>\n",
       "      <td>78466.475000</td>\n",
       "      <td>78304.550000</td>\n",
       "      <td>78393.050000</td>\n",
       "      <td>25.769500</td>\n",
       "    </tr>\n",
       "    <tr>\n",
       "      <th>50%</th>\n",
       "      <td>1.743961e+12</td>\n",
       "      <td>82133.95000</td>\n",
       "      <td>82187.000000</td>\n",
       "      <td>82063.450000</td>\n",
       "      <td>82134.150000</td>\n",
       "      <td>58.804500</td>\n",
       "    </tr>\n",
       "    <tr>\n",
       "      <th>75%</th>\n",
       "      <td>1.744111e+12</td>\n",
       "      <td>83100.00000</td>\n",
       "      <td>83139.400000</td>\n",
       "      <td>83067.725000</td>\n",
       "      <td>83100.025000</td>\n",
       "      <td>129.974000</td>\n",
       "    </tr>\n",
       "    <tr>\n",
       "      <th>max</th>\n",
       "      <td>1.744261e+12</td>\n",
       "      <td>84670.20000</td>\n",
       "      <td>84736.000000</td>\n",
       "      <td>84656.100000</td>\n",
       "      <td>84670.200000</td>\n",
       "      <td>4595.508000</td>\n",
       "    </tr>\n",
       "  </tbody>\n",
       "</table>\n",
       "</div>"
      ],
      "text/plain": [
       "         start_time        close          high           low          open  \\\n",
       "count  1.000000e+04  10000.00000  10000.000000  10000.000000  10000.000000   \n",
       "mean   1.743961e+12  80826.77586  80875.515700  80779.621850  80826.895620   \n",
       "std    1.732137e+08   2705.14478   2687.784589   2722.349706   2705.222122   \n",
       "min    1.743661e+12  74584.20000  74702.500000  74456.200000  74584.200000   \n",
       "25%    1.743811e+12  78393.05000  78466.475000  78304.550000  78393.050000   \n",
       "50%    1.743961e+12  82133.95000  82187.000000  82063.450000  82134.150000   \n",
       "75%    1.744111e+12  83100.00000  83139.400000  83067.725000  83100.025000   \n",
       "max    1.744261e+12  84670.20000  84736.000000  84656.100000  84670.200000   \n",
       "\n",
       "             volume  \n",
       "count  10000.000000  \n",
       "mean     117.012722  \n",
       "std      205.516421  \n",
       "min        0.946000  \n",
       "25%       25.769500  \n",
       "50%       58.804500  \n",
       "75%      129.974000  \n",
       "max     4595.508000  "
      ]
     },
     "execution_count": 26,
     "metadata": {},
     "output_type": "execute_result"
    }
   ],
   "source": [
    "global_df.describe(include='all')"
   ]
  },
  {
   "cell_type": "code",
   "execution_count": 27,
   "id": "ef6aff3c",
   "metadata": {},
   "outputs": [
    {
     "name": "stdout",
     "output_type": "stream",
     "text": [
      "Rows:  10000 Columns:  6\n"
     ]
    }
   ],
   "source": [
    "num_rows = global_df.shape[0]\n",
    "num_cols = global_df.shape[1]\n",
    "print(\"Rows: \", num_rows, \"Columns: \", num_cols)\n"
   ]
  },
  {
   "cell_type": "markdown",
   "id": "9c58da22",
   "metadata": {},
   "source": [
    "Show columns's data types using the property df.dtypes"
   ]
  },
  {
   "cell_type": "code",
   "execution_count": 28,
   "id": "b045513a",
   "metadata": {},
   "outputs": [
    {
     "data": {
      "text/plain": [
       "start_time      int64\n",
       "close         float64\n",
       "high          float64\n",
       "low           float64\n",
       "open          float64\n",
       "volume        float64\n",
       "dtype: object"
      ]
     },
     "execution_count": 28,
     "metadata": {},
     "output_type": "execute_result"
    }
   ],
   "source": [
    "global_df.dtypes"
   ]
  },
  {
   "cell_type": "code",
   "execution_count": 29,
   "id": "5f7f54e8",
   "metadata": {},
   "outputs": [
    {
     "name": "stdout",
     "output_type": "stream",
     "text": [
      "         start_time        close          high           low          open  \\\n",
      "count  1.000000e+04  10000.00000  10000.000000  10000.000000  10000.000000   \n",
      "mean   1.743961e+12  80826.77586  80875.515700  80779.621850  80826.895620   \n",
      "std    1.732137e+08   2705.14478   2687.784589   2722.349706   2705.222122   \n",
      "min    1.743661e+12  74584.20000  74702.500000  74456.200000  74584.200000   \n",
      "25%    1.743811e+12  78393.05000  78466.475000  78304.550000  78393.050000   \n",
      "50%    1.743961e+12  82133.95000  82187.000000  82063.450000  82134.150000   \n",
      "75%    1.744111e+12  83100.00000  83139.400000  83067.725000  83100.025000   \n",
      "max    1.744261e+12  84670.20000  84736.000000  84656.100000  84670.200000   \n",
      "\n",
      "             volume  \n",
      "count  10000.000000  \n",
      "mean     117.012722  \n",
      "std      205.516421  \n",
      "min        0.946000  \n",
      "25%       25.769500  \n",
      "50%       58.804500  \n",
      "75%      129.974000  \n",
      "max     4595.508000  \n"
     ]
    }
   ],
   "source": [
    "summary_stats = global_df.describe()\n",
    "print(summary_stats)"
   ]
  }
 ],
 "metadata": {
  "kernelspec": {
   "display_name": "streamlitenv",
   "language": "python",
   "name": "python3"
  },
  "language_info": {
   "codemirror_mode": {
    "name": "ipython",
    "version": 3
   },
   "file_extension": ".py",
   "mimetype": "text/x-python",
   "name": "python",
   "nbconvert_exporter": "python",
   "pygments_lexer": "ipython3",
   "version": "3.11.9"
  }
 },
 "nbformat": 4,
 "nbformat_minor": 5
}
