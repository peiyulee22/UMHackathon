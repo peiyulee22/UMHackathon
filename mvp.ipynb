{
 "cells": [
  {
   "cell_type": "markdown",
   "id": "545548cc",
   "metadata": {},
   "source": [
    "Load Data"
   ]
  },
  {
   "cell_type": "code",
   "execution_count": 14,
   "id": "ed922d7a",
   "metadata": {},
   "outputs": [
    {
     "name": "stdout",
     "output_type": "stream",
     "text": [
      "Requirement already satisfied: cybotrade_datasource in c:\\users\\scsm11\\anaconda3\\envs\\streamlitenv\\lib\\site-packages (0.1.1)\n",
      "Requirement already satisfied: python-dotenv in c:\\users\\scsm11\\anaconda3\\envs\\streamlitenv\\lib\\site-packages (1.1.0)\n",
      "['__builtins__', '__cached__', '__doc__', '__file__', '__loader__', '__name__', '__package__', '__path__', '__spec__', 'cybotrade_datasource', 'query', 'query_paginated', 'stream']\n",
      "DataFrame 1 (bybit-linear|candle?symbol=BTCUSDT&interval=1m)\n",
      "<bound method NDFrame.head of          start_time    close     high      low     open  volume\n",
      "0     1743659280000  83364.8  83405.7  83360.0  83405.7  30.697\n",
      "1     1743659340000  83393.8  83393.8  83360.2  83364.8  16.294\n",
      "2     1743659400000  83405.4  83432.9  83393.7  83393.8  16.983\n",
      "3     1743659460000  83391.3  83405.4  83380.0  83405.4   8.574\n",
      "4     1743659520000  83384.5  83406.4  83376.3  83391.3  19.058\n",
      "...             ...      ...      ...      ...      ...     ...\n",
      "9995  1744258980000  81782.9  81782.9  81724.0  81749.3  18.160\n",
      "9996  1744259040000  81781.7  81822.9  81771.1  81782.9  25.325\n",
      "9997  1744259100000  81794.0  81794.0  81766.1  81781.7  13.042\n",
      "9998  1744259160000  81770.3  81794.0  81756.4  81794.0  10.477\n",
      "9999  1744259220000  81706.9  81775.8  81700.0  81770.3  25.565\n",
      "\n",
      "[10000 rows x 6 columns]>\n",
      "start_time    0\n",
      "close         0\n",
      "high          0\n",
      "low           0\n",
      "open          0\n",
      "volume        0\n",
      "dtype: int64\n"
     ]
    }
   ],
   "source": [
    "!pip install cybotrade_datasource\n",
    "!pip install python-dotenv\n",
    "\n",
    "import pandas as pd\n",
    "import asyncio\n",
    "import cybotrade_datasource\n",
    "from datetime import datetime, timezone\n",
    "from dotenv import load_dotenv\n",
    "import os\n",
    "\n",
    "import warnings as wr\n",
    "wr.filterwarnings('ignore')\n",
    "\n",
    "print(dir(cybotrade_datasource))\n",
    "\n",
    "load_dotenv()\n",
    "\n",
    "API_KEY = os.getenv('CYBOTRADE_API_KEY')\n",
    "\n",
    "'''\n",
    "async def main():\n",
    "    data = await cybotrade_datasource.query_paginated(\n",
    "        api_key=API_KEY, \n",
    "        topic='cryptoquant|btc/inter-entity-flows/miner-to-miner?from_miner=f2pool&to_miner=all_miner&window=hour', \n",
    "        start_time=datetime(year=2024, month=1, day=1, tzinfo=timezone.utc),\n",
    "        end_time=datetime(year=2025, month=1, day=1, tzinfo=timezone.utc)\n",
    "    )\n",
    "    df = pd.DataFrame(data)\n",
    "    print(df)\n",
    "    \n",
    "\n",
    "await main()\n",
    "'''\n",
    "\n",
    "'''\n",
    "async def main():\n",
    "    stream = await cybotrade_datasource.stream(\n",
    "        api_key=API_KEY,\n",
    "        topics=[\n",
    "            'cryptoquant|btc/inter-entity-flows/miner-to-miner?from_miner=f2pool&to_miner=all_miner&window=hour',\n",
    "            'cryptoquant|btc/market-data/liquidations?exchange=deribit&window=min',\n",
    "        ],\n",
    "    )\n",
    "    async for msg in stream:\n",
    "        print(msg)\n",
    "    \n",
    "\n",
    "await main()\n",
    "'''\n",
    "\n",
    "global_df = None \n",
    "\n",
    "async def get_data(topic):\n",
    "    data = await cybotrade_datasource.query_paginated(\n",
    "        api_key=API_KEY, \n",
    "        topic=topic, \n",
    "        limit=10000\n",
    "    )\n",
    "    return pd.DataFrame(data)\n",
    "\n",
    "\n",
    "async def main():\n",
    "    global global_df\n",
    "\n",
    "    topics = [\n",
    "        \"bybit-linear|candle?symbol=BTCUSDT&interval=1m\",\n",
    "    ]\n",
    "\n",
    "#topic\n",
    "#\"cryptoquant|btc/market-data/open-interest?exchange=bybit&window=min\",\n",
    "#bybit-linear|candle?interval=1m&symbol=BTCUSDT\n",
    "#\"cryptoquant|btc/market-data/coinbase-premium-index?window=hour\",\n",
    "#\"cryptoquant|btc/exchange-flows/outflow?exchange=coinbase_advanced&window=hour\",\n",
    "#\"glassnode|market/deltacap_usd?a=BTC&i=10m\",\n",
    "\n",
    "    tasks = [get_data(topic) for topic in topics]\n",
    "    dataframes = await asyncio.gather(*tasks)\n",
    "\n",
    "    for i, df in enumerate(dataframes):\n",
    "        print(f\"DataFrame {i+1} ({topics[i]})\")\n",
    "        print(df.head)\n",
    "        print(df.isnull().sum())\n",
    "        global_df = df\n",
    "\n",
    "await main()\n"
   ]
  },
  {
   "cell_type": "markdown",
   "id": "bf795165",
   "metadata": {},
   "source": [
    "Check Data whether got null or not"
   ]
  },
  {
   "cell_type": "code",
   "execution_count": 15,
   "id": "a78ed0d7",
   "metadata": {},
   "outputs": [
    {
     "name": "stdout",
     "output_type": "stream",
     "text": [
      "         start_time    close     high      low     open  volume\n",
      "0     1743659280000  83364.8  83405.7  83360.0  83405.7  30.697\n",
      "1     1743659340000  83393.8  83393.8  83360.2  83364.8  16.294\n",
      "2     1743659400000  83405.4  83432.9  83393.7  83393.8  16.983\n",
      "3     1743659460000  83391.3  83405.4  83380.0  83405.4   8.574\n",
      "4     1743659520000  83384.5  83406.4  83376.3  83391.3  19.058\n",
      "...             ...      ...      ...      ...      ...     ...\n",
      "9995  1744258980000  81782.9  81782.9  81724.0  81749.3  18.160\n",
      "9996  1744259040000  81781.7  81822.9  81771.1  81782.9  25.325\n",
      "9997  1744259100000  81794.0  81794.0  81766.1  81781.7  13.042\n",
      "9998  1744259160000  81770.3  81794.0  81756.4  81794.0  10.477\n",
      "9999  1744259220000  81706.9  81775.8  81700.0  81770.3  25.565\n",
      "\n",
      "[10000 rows x 6 columns]\n"
     ]
    }
   ],
   "source": [
    "print(global_df)"
   ]
  }
 ],
 "metadata": {
  "kernelspec": {
   "display_name": "streamlitenv",
   "language": "python",
   "name": "python3"
  },
  "language_info": {
   "codemirror_mode": {
    "name": "ipython",
    "version": 3
   },
   "file_extension": ".py",
   "mimetype": "text/x-python",
   "name": "python",
   "nbconvert_exporter": "python",
   "pygments_lexer": "ipython3",
   "version": "3.11.9"
  }
 },
 "nbformat": 4,
 "nbformat_minor": 5
}
