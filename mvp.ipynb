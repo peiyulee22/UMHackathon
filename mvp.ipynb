{
 "cells": [
  {
   "cell_type": "markdown",
   "id": "a619674e",
   "metadata": {},
   "source": [
    "# Key Assumption\n",
    "\n",
    "The volatility between price show how the market feels - and might help us guess what happens next and do a decision.\n",
    "\n",
    "#  Sub-Assumption\n",
    "\n",
    "1. If a candle has a much bigger range than usual, it might mean a breakout or trend is starting.\n",
    "2. If a market is moving a lot today, it will probably keep moving a lot tomorrow too.\n",
    "3. if the shadows are large compared to the full candle, it means the market is unsure - price was pushed away from the highs/lows. That could mean a potential reversal.\n"
   ]
  },
  {
   "cell_type": "markdown",
   "id": "98f7dda8",
   "metadata": {},
   "source": [
    "# Hypothesis\n",
    "\n",
    "Volatility patterns from candlestick data (range, continuation, and shadow size) reflect market behaviour, and can be used to anticipate breakouts, continuations, or reversals."
   ]
  },
  {
   "cell_type": "markdown",
   "id": "05c3642d",
   "metadata": {},
   "source": [
    "# Formula Calculation\n",
    "\n",
    "SignalScore = w1 * RangeVol + w2 * VolCluster - w3 * WickRatio\n",
    "\n",
    "where;\n",
    "\n",
    "    - RangeVol = High - Low\n",
    "    - VolCluster = VolCluster = std(Close - N:t)\n",
    "    - WickRatio = (High - max(open,close) + min(open,close) - low) / (high - low + e)"
   ]
  },
  {
   "cell_type": "markdown",
   "id": "50663773",
   "metadata": {},
   "source": [
    "# Load Data, Check Data whether is null or not"
   ]
  },
  {
   "cell_type": "code",
   "execution_count": 3,
   "id": "ed922d7a",
   "metadata": {},
   "outputs": [
    {
     "name": "stdout",
     "output_type": "stream",
     "text": [
      "Requirement already satisfied: cybotrade_datasource in c:\\users\\scsm11\\anaconda3\\envs\\streamlitenv\\lib\\site-packages (0.1.1)\n",
      "Requirement already satisfied: python-dotenv in c:\\users\\scsm11\\anaconda3\\envs\\streamlitenv\\lib\\site-packages (1.1.0)\n",
      "Requirement already satisfied: hmmlearn in c:\\users\\scsm11\\anaconda3\\envs\\streamlitenv\\lib\\site-packages (0.3.3)\n",
      "Requirement already satisfied: numpy>=1.10 in c:\\users\\scsm11\\anaconda3\\envs\\streamlitenv\\lib\\site-packages (from hmmlearn) (1.26.4)\n",
      "Requirement already satisfied: scikit-learn!=0.22.0,>=0.16 in c:\\users\\scsm11\\anaconda3\\envs\\streamlitenv\\lib\\site-packages (from hmmlearn) (1.5.0)\n",
      "Requirement already satisfied: scipy>=0.19 in c:\\users\\scsm11\\anaconda3\\envs\\streamlitenv\\lib\\site-packages (from hmmlearn) (1.13.1)\n",
      "Requirement already satisfied: joblib>=1.2.0 in c:\\users\\scsm11\\anaconda3\\envs\\streamlitenv\\lib\\site-packages (from scikit-learn!=0.22.0,>=0.16->hmmlearn) (1.4.2)\n",
      "Requirement already satisfied: threadpoolctl>=3.1.0 in c:\\users\\scsm11\\anaconda3\\envs\\streamlitenv\\lib\\site-packages (from scikit-learn!=0.22.0,>=0.16->hmmlearn) (3.5.0)\n",
      "['__builtins__', '__cached__', '__doc__', '__file__', '__loader__', '__name__', '__package__', '__path__', '__spec__', 'cybotrade_datasource', 'query', 'query_paginated', 'stream']\n",
      "DataFrame 1 (bybit-linear|candle?symbol=BTCUSDT&interval=1m)\n",
      "<bound method NDFrame.head of          start_time    close     high      low     open   volume\n",
      "0     1743860100000  82738.1  82804.7  82738.0  82796.2   56.009\n",
      "1     1743860160000  82720.0  82745.0  82710.0  82738.1   57.188\n",
      "2     1743860220000  82703.1  82762.8  82703.0  82720.0  133.710\n",
      "3     1743860280000  82700.5  82725.9  82692.4  82703.1   37.703\n",
      "4     1743860340000  82734.8  82747.1  82690.1  82700.5   39.877\n",
      "...             ...      ...      ...      ...      ...      ...\n",
      "9995  1744459800000  83547.2  83560.0  83532.8  83552.2   30.189\n",
      "9996  1744459860000  83558.5  83562.0  83541.4  83547.2    8.373\n",
      "9997  1744459920000  83600.8  83600.8  83558.4  83558.5   50.641\n",
      "9998  1744459980000  83607.8  83607.8  83578.4  83600.8   33.155\n",
      "9999  1744460040000  83630.0  83647.9  83607.8  83607.8   81.404\n",
      "\n",
      "[10000 rows x 6 columns]>\n",
      "start_time    0\n",
      "close         0\n",
      "high          0\n",
      "low           0\n",
      "open          0\n",
      "volume        0\n",
      "dtype: int64\n"
     ]
    }
   ],
   "source": [
    "!pip install cybotrade_datasource\n",
    "!pip install python-dotenv\n",
    "!pip install hmmlearn\n",
    "\n",
    "import pandas as pd\n",
    "import numpy as np\n",
    "import asyncio\n",
    "import cybotrade_datasource\n",
    "from datetime import datetime, timezone\n",
    "from dotenv import load_dotenv\n",
    "from sklearn.preprocessing import StandardScaler\n",
    "from hmmlearn.hmm import GaussianHMM\n",
    "import os\n",
    "import matplotlib.pyplot as plt\n",
    "import seaborn as sns\n",
    "import matplotlib.dates as mdates\n",
    "\n",
    "import warnings as wr\n",
    "wr.filterwarnings('ignore')\n",
    "\n",
    "print(dir(cybotrade_datasource))\n",
    "\n",
    "load_dotenv()\n",
    "\n",
    "API_KEY = os.getenv('CYBOTRADE_API_KEY')\n",
    "\n",
    "'''\n",
    "async def main():\n",
    "    data = await cybotrade_datasource.query_paginated(\n",
    "        api_key=API_KEY, \n",
    "        topic='cryptoquant|btc/inter-entity-flows/miner-to-miner?from_miner=f2pool&to_miner=all_miner&window=hour', \n",
    "        start_time=datetime(year=2024, month=1, day=1, tzinfo=timezone.utc),\n",
    "        end_time=datetime(year=2025, month=1, day=1, tzinfo=timezone.utc)\n",
    "    )\n",
    "    df = pd.DataFrame(data)\n",
    "    print(df)\n",
    "    \n",
    "\n",
    "await main()\n",
    "'''\n",
    "\n",
    "'''\n",
    "async def main():\n",
    "    stream = await cybotrade_datasource.stream(\n",
    "        api_key=API_KEY,\n",
    "        topics=[\n",
    "            'cryptoquant|btc/inter-entity-flows/miner-to-miner?from_miner=f2pool&to_miner=all_miner&window=hour',\n",
    "            'cryptoquant|btc/market-data/liquidations?exchange=deribit&window=min',\n",
    "        ],\n",
    "    )\n",
    "    async for msg in stream:\n",
    "        print(msg)\n",
    "    \n",
    "\n",
    "await main()\n",
    "'''\n",
    "\n",
    "global_df = None \n",
    "\n",
    "async def get_data(topic):\n",
    "    data = await cybotrade_datasource.query_paginated(\n",
    "        api_key=API_KEY, \n",
    "        topic=topic, \n",
    "        limit=10000\n",
    "    )\n",
    "    return pd.DataFrame(data)\n",
    "\n",
    "\n",
    "async def main():\n",
    "    global global_df\n",
    "\n",
    "    topics = [\n",
    "        \"bybit-linear|candle?symbol=BTCUSDT&interval=1m\",\n",
    "    ]\n",
    "\n",
    "#topic\n",
    "#\"cryptoquant|btc/market-data/open-interest?exchange=bybit&window=min\",\n",
    "#bybit-linear|candle?interval=1m&symbol=BTCUSDT\n",
    "#\"cryptoquant|btc/market-data/coinbase-premium-index?window=hour\",\n",
    "#\"cryptoquant|btc/exchange-flows/outflow?exchange=coinbase_advanced&window=hour\",\n",
    "#\"glassnode|market/deltacap_usd?a=BTC&i=10m\",\n",
    "\n",
    "    tasks = [get_data(topic) for topic in topics]\n",
    "    dataframes = await asyncio.gather(*tasks)\n",
    "\n",
    "    for i, df in enumerate(dataframes):\n",
    "        print(f\"DataFrame {i+1} ({topics[i]})\")\n",
    "        print(df.head)\n",
    "        print(df.isnull().sum())\n",
    "        global_df = df\n",
    "\n",
    "await main()\n"
   ]
  },
  {
   "cell_type": "markdown",
   "id": "bf795165",
   "metadata": {},
   "source": [
    "Display first five column of the dataframe"
   ]
  },
  {
   "cell_type": "code",
   "execution_count": 4,
   "id": "a78ed0d7",
   "metadata": {},
   "outputs": [
    {
     "name": "stdout",
     "output_type": "stream",
     "text": [
      "         start_time    close     high      low     open   volume\n",
      "0     1743860100000  82738.1  82804.7  82738.0  82796.2   56.009\n",
      "1     1743860160000  82720.0  82745.0  82710.0  82738.1   57.188\n",
      "2     1743860220000  82703.1  82762.8  82703.0  82720.0  133.710\n",
      "3     1743860280000  82700.5  82725.9  82692.4  82703.1   37.703\n",
      "4     1743860340000  82734.8  82747.1  82690.1  82700.5   39.877\n",
      "...             ...      ...      ...      ...      ...      ...\n",
      "9995  1744459800000  83547.2  83560.0  83532.8  83552.2   30.189\n",
      "9996  1744459860000  83558.5  83562.0  83541.4  83547.2    8.373\n",
      "9997  1744459920000  83600.8  83600.8  83558.4  83558.5   50.641\n",
      "9998  1744459980000  83607.8  83607.8  83578.4  83600.8   33.155\n",
      "9999  1744460040000  83630.0  83647.9  83607.8  83607.8   81.404\n",
      "\n",
      "[10000 rows x 6 columns]\n"
     ]
    }
   ],
   "source": [
    "print(global_df)"
   ]
  },
  {
   "cell_type": "markdown",
   "id": "828155df",
   "metadata": {},
   "source": [
    "Analyze Data (first five and last five)"
   ]
  },
  {
   "cell_type": "code",
   "execution_count": 5,
   "id": "86afdd15",
   "metadata": {},
   "outputs": [
    {
     "data": {
      "text/html": [
       "<div>\n",
       "<style scoped>\n",
       "    .dataframe tbody tr th:only-of-type {\n",
       "        vertical-align: middle;\n",
       "    }\n",
       "\n",
       "    .dataframe tbody tr th {\n",
       "        vertical-align: top;\n",
       "    }\n",
       "\n",
       "    .dataframe thead th {\n",
       "        text-align: right;\n",
       "    }\n",
       "</style>\n",
       "<table border=\"1\" class=\"dataframe\">\n",
       "  <thead>\n",
       "    <tr style=\"text-align: right;\">\n",
       "      <th></th>\n",
       "      <th>start_time</th>\n",
       "      <th>close</th>\n",
       "      <th>high</th>\n",
       "      <th>low</th>\n",
       "      <th>open</th>\n",
       "      <th>volume</th>\n",
       "    </tr>\n",
       "  </thead>\n",
       "  <tbody>\n",
       "    <tr>\n",
       "      <th>0</th>\n",
       "      <td>1743860100000</td>\n",
       "      <td>82738.1</td>\n",
       "      <td>82804.7</td>\n",
       "      <td>82738.0</td>\n",
       "      <td>82796.2</td>\n",
       "      <td>56.009</td>\n",
       "    </tr>\n",
       "    <tr>\n",
       "      <th>1</th>\n",
       "      <td>1743860160000</td>\n",
       "      <td>82720.0</td>\n",
       "      <td>82745.0</td>\n",
       "      <td>82710.0</td>\n",
       "      <td>82738.1</td>\n",
       "      <td>57.188</td>\n",
       "    </tr>\n",
       "    <tr>\n",
       "      <th>2</th>\n",
       "      <td>1743860220000</td>\n",
       "      <td>82703.1</td>\n",
       "      <td>82762.8</td>\n",
       "      <td>82703.0</td>\n",
       "      <td>82720.0</td>\n",
       "      <td>133.710</td>\n",
       "    </tr>\n",
       "    <tr>\n",
       "      <th>3</th>\n",
       "      <td>1743860280000</td>\n",
       "      <td>82700.5</td>\n",
       "      <td>82725.9</td>\n",
       "      <td>82692.4</td>\n",
       "      <td>82703.1</td>\n",
       "      <td>37.703</td>\n",
       "    </tr>\n",
       "    <tr>\n",
       "      <th>4</th>\n",
       "      <td>1743860340000</td>\n",
       "      <td>82734.8</td>\n",
       "      <td>82747.1</td>\n",
       "      <td>82690.1</td>\n",
       "      <td>82700.5</td>\n",
       "      <td>39.877</td>\n",
       "    </tr>\n",
       "  </tbody>\n",
       "</table>\n",
       "</div>"
      ],
      "text/plain": [
       "      start_time    close     high      low     open   volume\n",
       "0  1743860100000  82738.1  82804.7  82738.0  82796.2   56.009\n",
       "1  1743860160000  82720.0  82745.0  82710.0  82738.1   57.188\n",
       "2  1743860220000  82703.1  82762.8  82703.0  82720.0  133.710\n",
       "3  1743860280000  82700.5  82725.9  82692.4  82703.1   37.703\n",
       "4  1743860340000  82734.8  82747.1  82690.1  82700.5   39.877"
      ]
     },
     "execution_count": 5,
     "metadata": {},
     "output_type": "execute_result"
    }
   ],
   "source": [
    "global_df.head()"
   ]
  },
  {
   "cell_type": "code",
   "execution_count": 6,
   "id": "78d045fd",
   "metadata": {},
   "outputs": [
    {
     "data": {
      "text/html": [
       "<div>\n",
       "<style scoped>\n",
       "    .dataframe tbody tr th:only-of-type {\n",
       "        vertical-align: middle;\n",
       "    }\n",
       "\n",
       "    .dataframe tbody tr th {\n",
       "        vertical-align: top;\n",
       "    }\n",
       "\n",
       "    .dataframe thead th {\n",
       "        text-align: right;\n",
       "    }\n",
       "</style>\n",
       "<table border=\"1\" class=\"dataframe\">\n",
       "  <thead>\n",
       "    <tr style=\"text-align: right;\">\n",
       "      <th></th>\n",
       "      <th>start_time</th>\n",
       "      <th>close</th>\n",
       "      <th>high</th>\n",
       "      <th>low</th>\n",
       "      <th>open</th>\n",
       "      <th>volume</th>\n",
       "    </tr>\n",
       "  </thead>\n",
       "  <tbody>\n",
       "    <tr>\n",
       "      <th>9995</th>\n",
       "      <td>1744459800000</td>\n",
       "      <td>83547.2</td>\n",
       "      <td>83560.0</td>\n",
       "      <td>83532.8</td>\n",
       "      <td>83552.2</td>\n",
       "      <td>30.189</td>\n",
       "    </tr>\n",
       "    <tr>\n",
       "      <th>9996</th>\n",
       "      <td>1744459860000</td>\n",
       "      <td>83558.5</td>\n",
       "      <td>83562.0</td>\n",
       "      <td>83541.4</td>\n",
       "      <td>83547.2</td>\n",
       "      <td>8.373</td>\n",
       "    </tr>\n",
       "    <tr>\n",
       "      <th>9997</th>\n",
       "      <td>1744459920000</td>\n",
       "      <td>83600.8</td>\n",
       "      <td>83600.8</td>\n",
       "      <td>83558.4</td>\n",
       "      <td>83558.5</td>\n",
       "      <td>50.641</td>\n",
       "    </tr>\n",
       "    <tr>\n",
       "      <th>9998</th>\n",
       "      <td>1744459980000</td>\n",
       "      <td>83607.8</td>\n",
       "      <td>83607.8</td>\n",
       "      <td>83578.4</td>\n",
       "      <td>83600.8</td>\n",
       "      <td>33.155</td>\n",
       "    </tr>\n",
       "    <tr>\n",
       "      <th>9999</th>\n",
       "      <td>1744460040000</td>\n",
       "      <td>83630.0</td>\n",
       "      <td>83647.9</td>\n",
       "      <td>83607.8</td>\n",
       "      <td>83607.8</td>\n",
       "      <td>81.404</td>\n",
       "    </tr>\n",
       "  </tbody>\n",
       "</table>\n",
       "</div>"
      ],
      "text/plain": [
       "         start_time    close     high      low     open  volume\n",
       "9995  1744459800000  83547.2  83560.0  83532.8  83552.2  30.189\n",
       "9996  1744459860000  83558.5  83562.0  83541.4  83547.2   8.373\n",
       "9997  1744459920000  83600.8  83600.8  83558.4  83558.5  50.641\n",
       "9998  1744459980000  83607.8  83607.8  83578.4  83600.8  33.155\n",
       "9999  1744460040000  83630.0  83647.9  83607.8  83607.8  81.404"
      ]
     },
     "execution_count": 6,
     "metadata": {},
     "output_type": "execute_result"
    }
   ],
   "source": [
    "global_df.tail()"
   ]
  },
  {
   "cell_type": "code",
   "execution_count": 7,
   "id": "8595ee93",
   "metadata": {},
   "outputs": [
    {
     "data": {
      "text/plain": [
       "(10000, 6)"
      ]
     },
     "execution_count": 7,
     "metadata": {},
     "output_type": "execute_result"
    }
   ],
   "source": [
    "global_df.shape"
   ]
  },
  {
   "cell_type": "code",
   "execution_count": 8,
   "id": "81969534",
   "metadata": {},
   "outputs": [
    {
     "name": "stdout",
     "output_type": "stream",
     "text": [
      "10000\n"
     ]
    }
   ],
   "source": [
    "num_rows = len(global_df)\n",
    "print(num_rows)"
   ]
  },
  {
   "cell_type": "markdown",
   "id": "d1c7a0e6",
   "metadata": {},
   "source": [
    "We had 10000 rows in this dataset (latest)"
   ]
  },
  {
   "cell_type": "code",
   "execution_count": 9,
   "id": "6fd811af",
   "metadata": {},
   "outputs": [
    {
     "name": "stdout",
     "output_type": "stream",
     "text": [
      "Categorical Variables:\n",
      "Index([], dtype='object')\n",
      "Numerical Variables:\n",
      "['start_time', 'close', 'high', 'low', 'open', 'volume']\n"
     ]
    }
   ],
   "source": [
    "cat_cols = global_df.select_dtypes(include=['object']).columns\n",
    "num_cols = global_df.select_dtypes(include=np.number).columns.tolist()\n",
    "print(\"Categorical Variables:\")\n",
    "print(cat_cols)\n",
    "print(\"Numerical Variables:\")\n",
    "print(num_cols)"
   ]
  },
  {
   "cell_type": "code",
   "execution_count": 10,
   "id": "200c03ac",
   "metadata": {},
   "outputs": [
    {
     "name": "stdout",
     "output_type": "stream",
     "text": [
      "<class 'pandas.core.frame.DataFrame'>\n",
      "RangeIndex: 10000 entries, 0 to 9999\n",
      "Data columns (total 6 columns):\n",
      " #   Column      Non-Null Count  Dtype  \n",
      "---  ------      --------------  -----  \n",
      " 0   start_time  10000 non-null  int64  \n",
      " 1   close       10000 non-null  float64\n",
      " 2   high        10000 non-null  float64\n",
      " 3   low         10000 non-null  float64\n",
      " 4   open        10000 non-null  float64\n",
      " 5   volume      10000 non-null  float64\n",
      "dtypes: float64(5), int64(1)\n",
      "memory usage: 468.9 KB\n"
     ]
    }
   ],
   "source": [
    "global_df.info()"
   ]
  },
  {
   "cell_type": "markdown",
   "id": "66166020",
   "metadata": {},
   "source": [
    "Obtain a statistical summary of the dataframe using describe"
   ]
  },
  {
   "cell_type": "code",
   "execution_count": 11,
   "id": "cf746f02",
   "metadata": {},
   "outputs": [
    {
     "data": {
      "text/html": [
       "<div>\n",
       "<style scoped>\n",
       "    .dataframe tbody tr th:only-of-type {\n",
       "        vertical-align: middle;\n",
       "    }\n",
       "\n",
       "    .dataframe tbody tr th {\n",
       "        vertical-align: top;\n",
       "    }\n",
       "\n",
       "    .dataframe thead th {\n",
       "        text-align: right;\n",
       "    }\n",
       "</style>\n",
       "<table border=\"1\" class=\"dataframe\">\n",
       "  <thead>\n",
       "    <tr style=\"text-align: right;\">\n",
       "      <th></th>\n",
       "      <th>start_time</th>\n",
       "      <th>close</th>\n",
       "      <th>high</th>\n",
       "      <th>low</th>\n",
       "      <th>open</th>\n",
       "      <th>volume</th>\n",
       "    </tr>\n",
       "  </thead>\n",
       "  <tbody>\n",
       "    <tr>\n",
       "      <th>count</th>\n",
       "      <td>1.000000e+04</td>\n",
       "      <td>10000.000000</td>\n",
       "      <td>10000.000000</td>\n",
       "      <td>10000.00000</td>\n",
       "      <td>10000.000000</td>\n",
       "      <td>10000.000000</td>\n",
       "    </tr>\n",
       "    <tr>\n",
       "      <th>mean</th>\n",
       "      <td>1.744160e+12</td>\n",
       "      <td>80395.929450</td>\n",
       "      <td>80444.860570</td>\n",
       "      <td>80348.12474</td>\n",
       "      <td>80395.846070</td>\n",
       "      <td>116.372846</td>\n",
       "    </tr>\n",
       "    <tr>\n",
       "      <th>std</th>\n",
       "      <td>1.732137e+08</td>\n",
       "      <td>2496.748484</td>\n",
       "      <td>2479.195192</td>\n",
       "      <td>2513.67868</td>\n",
       "      <td>2496.654391</td>\n",
       "      <td>206.408674</td>\n",
       "    </tr>\n",
       "    <tr>\n",
       "      <th>min</th>\n",
       "      <td>1.743860e+12</td>\n",
       "      <td>74584.200000</td>\n",
       "      <td>74702.500000</td>\n",
       "      <td>74456.20000</td>\n",
       "      <td>74584.200000</td>\n",
       "      <td>0.946000</td>\n",
       "    </tr>\n",
       "    <tr>\n",
       "      <th>25%</th>\n",
       "      <td>1.744010e+12</td>\n",
       "      <td>78393.050000</td>\n",
       "      <td>78466.475000</td>\n",
       "      <td>78304.55000</td>\n",
       "      <td>78393.050000</td>\n",
       "      <td>27.887000</td>\n",
       "    </tr>\n",
       "    <tr>\n",
       "      <th>50%</th>\n",
       "      <td>1.744160e+12</td>\n",
       "      <td>80583.000000</td>\n",
       "      <td>80632.500000</td>\n",
       "      <td>80537.70000</td>\n",
       "      <td>80583.000000</td>\n",
       "      <td>59.174000</td>\n",
       "    </tr>\n",
       "    <tr>\n",
       "      <th>75%</th>\n",
       "      <td>1.744310e+12</td>\n",
       "      <td>82774.275000</td>\n",
       "      <td>82800.000000</td>\n",
       "      <td>82750.20000</td>\n",
       "      <td>82774.275000</td>\n",
       "      <td>124.009750</td>\n",
       "    </tr>\n",
       "    <tr>\n",
       "      <th>max</th>\n",
       "      <td>1.744460e+12</td>\n",
       "      <td>84239.500000</td>\n",
       "      <td>84288.000000</td>\n",
       "      <td>84100.00000</td>\n",
       "      <td>84239.500000</td>\n",
       "      <td>4595.508000</td>\n",
       "    </tr>\n",
       "  </tbody>\n",
       "</table>\n",
       "</div>"
      ],
      "text/plain": [
       "         start_time         close          high          low          open  \\\n",
       "count  1.000000e+04  10000.000000  10000.000000  10000.00000  10000.000000   \n",
       "mean   1.744160e+12  80395.929450  80444.860570  80348.12474  80395.846070   \n",
       "std    1.732137e+08   2496.748484   2479.195192   2513.67868   2496.654391   \n",
       "min    1.743860e+12  74584.200000  74702.500000  74456.20000  74584.200000   \n",
       "25%    1.744010e+12  78393.050000  78466.475000  78304.55000  78393.050000   \n",
       "50%    1.744160e+12  80583.000000  80632.500000  80537.70000  80583.000000   \n",
       "75%    1.744310e+12  82774.275000  82800.000000  82750.20000  82774.275000   \n",
       "max    1.744460e+12  84239.500000  84288.000000  84100.00000  84239.500000   \n",
       "\n",
       "             volume  \n",
       "count  10000.000000  \n",
       "mean     116.372846  \n",
       "std      206.408674  \n",
       "min        0.946000  \n",
       "25%       27.887000  \n",
       "50%       59.174000  \n",
       "75%      124.009750  \n",
       "max     4595.508000  "
      ]
     },
     "execution_count": 11,
     "metadata": {},
     "output_type": "execute_result"
    }
   ],
   "source": [
    "global_df.describe()"
   ]
  },
  {
   "cell_type": "code",
   "execution_count": 12,
   "id": "86fd0ca9",
   "metadata": {},
   "outputs": [
    {
     "data": {
      "text/html": [
       "<div>\n",
       "<style scoped>\n",
       "    .dataframe tbody tr th:only-of-type {\n",
       "        vertical-align: middle;\n",
       "    }\n",
       "\n",
       "    .dataframe tbody tr th {\n",
       "        vertical-align: top;\n",
       "    }\n",
       "\n",
       "    .dataframe thead th {\n",
       "        text-align: right;\n",
       "    }\n",
       "</style>\n",
       "<table border=\"1\" class=\"dataframe\">\n",
       "  <thead>\n",
       "    <tr style=\"text-align: right;\">\n",
       "      <th></th>\n",
       "      <th>start_time</th>\n",
       "      <th>close</th>\n",
       "      <th>high</th>\n",
       "      <th>low</th>\n",
       "      <th>open</th>\n",
       "      <th>volume</th>\n",
       "    </tr>\n",
       "  </thead>\n",
       "  <tbody>\n",
       "    <tr>\n",
       "      <th>count</th>\n",
       "      <td>1.000000e+04</td>\n",
       "      <td>10000.000000</td>\n",
       "      <td>10000.000000</td>\n",
       "      <td>10000.00000</td>\n",
       "      <td>10000.000000</td>\n",
       "      <td>10000.000000</td>\n",
       "    </tr>\n",
       "    <tr>\n",
       "      <th>mean</th>\n",
       "      <td>1.744160e+12</td>\n",
       "      <td>80395.929450</td>\n",
       "      <td>80444.860570</td>\n",
       "      <td>80348.12474</td>\n",
       "      <td>80395.846070</td>\n",
       "      <td>116.372846</td>\n",
       "    </tr>\n",
       "    <tr>\n",
       "      <th>std</th>\n",
       "      <td>1.732137e+08</td>\n",
       "      <td>2496.748484</td>\n",
       "      <td>2479.195192</td>\n",
       "      <td>2513.67868</td>\n",
       "      <td>2496.654391</td>\n",
       "      <td>206.408674</td>\n",
       "    </tr>\n",
       "    <tr>\n",
       "      <th>min</th>\n",
       "      <td>1.743860e+12</td>\n",
       "      <td>74584.200000</td>\n",
       "      <td>74702.500000</td>\n",
       "      <td>74456.20000</td>\n",
       "      <td>74584.200000</td>\n",
       "      <td>0.946000</td>\n",
       "    </tr>\n",
       "    <tr>\n",
       "      <th>25%</th>\n",
       "      <td>1.744010e+12</td>\n",
       "      <td>78393.050000</td>\n",
       "      <td>78466.475000</td>\n",
       "      <td>78304.55000</td>\n",
       "      <td>78393.050000</td>\n",
       "      <td>27.887000</td>\n",
       "    </tr>\n",
       "    <tr>\n",
       "      <th>50%</th>\n",
       "      <td>1.744160e+12</td>\n",
       "      <td>80583.000000</td>\n",
       "      <td>80632.500000</td>\n",
       "      <td>80537.70000</td>\n",
       "      <td>80583.000000</td>\n",
       "      <td>59.174000</td>\n",
       "    </tr>\n",
       "    <tr>\n",
       "      <th>75%</th>\n",
       "      <td>1.744310e+12</td>\n",
       "      <td>82774.275000</td>\n",
       "      <td>82800.000000</td>\n",
       "      <td>82750.20000</td>\n",
       "      <td>82774.275000</td>\n",
       "      <td>124.009750</td>\n",
       "    </tr>\n",
       "    <tr>\n",
       "      <th>max</th>\n",
       "      <td>1.744460e+12</td>\n",
       "      <td>84239.500000</td>\n",
       "      <td>84288.000000</td>\n",
       "      <td>84100.00000</td>\n",
       "      <td>84239.500000</td>\n",
       "      <td>4595.508000</td>\n",
       "    </tr>\n",
       "  </tbody>\n",
       "</table>\n",
       "</div>"
      ],
      "text/plain": [
       "         start_time         close          high          low          open  \\\n",
       "count  1.000000e+04  10000.000000  10000.000000  10000.00000  10000.000000   \n",
       "mean   1.744160e+12  80395.929450  80444.860570  80348.12474  80395.846070   \n",
       "std    1.732137e+08   2496.748484   2479.195192   2513.67868   2496.654391   \n",
       "min    1.743860e+12  74584.200000  74702.500000  74456.20000  74584.200000   \n",
       "25%    1.744010e+12  78393.050000  78466.475000  78304.55000  78393.050000   \n",
       "50%    1.744160e+12  80583.000000  80632.500000  80537.70000  80583.000000   \n",
       "75%    1.744310e+12  82774.275000  82800.000000  82750.20000  82774.275000   \n",
       "max    1.744460e+12  84239.500000  84288.000000  84100.00000  84239.500000   \n",
       "\n",
       "             volume  \n",
       "count  10000.000000  \n",
       "mean     116.372846  \n",
       "std      206.408674  \n",
       "min        0.946000  \n",
       "25%       27.887000  \n",
       "50%       59.174000  \n",
       "75%      124.009750  \n",
       "max     4595.508000  "
      ]
     },
     "execution_count": 12,
     "metadata": {},
     "output_type": "execute_result"
    }
   ],
   "source": [
    "global_df.describe(include='all')"
   ]
  },
  {
   "cell_type": "code",
   "execution_count": 13,
   "id": "ef6aff3c",
   "metadata": {},
   "outputs": [
    {
     "name": "stdout",
     "output_type": "stream",
     "text": [
      "Rows:  10000 Columns:  6\n"
     ]
    }
   ],
   "source": [
    "num_rows = global_df.shape[0]\n",
    "num_cols = global_df.shape[1]\n",
    "print(\"Rows: \", num_rows, \"Columns: \", num_cols)\n"
   ]
  },
  {
   "cell_type": "markdown",
   "id": "9c58da22",
   "metadata": {},
   "source": [
    "Show columns's data types using the property df.dtypes"
   ]
  },
  {
   "cell_type": "code",
   "execution_count": 14,
   "id": "b045513a",
   "metadata": {},
   "outputs": [
    {
     "data": {
      "text/plain": [
       "start_time      int64\n",
       "close         float64\n",
       "high          float64\n",
       "low           float64\n",
       "open          float64\n",
       "volume        float64\n",
       "dtype: object"
      ]
     },
     "execution_count": 14,
     "metadata": {},
     "output_type": "execute_result"
    }
   ],
   "source": [
    "global_df.dtypes"
   ]
  },
  {
   "cell_type": "code",
   "execution_count": 15,
   "id": "5f7f54e8",
   "metadata": {},
   "outputs": [
    {
     "name": "stdout",
     "output_type": "stream",
     "text": [
      "         start_time         close          high          low          open  \\\n",
      "count  1.000000e+04  10000.000000  10000.000000  10000.00000  10000.000000   \n",
      "mean   1.744160e+12  80395.929450  80444.860570  80348.12474  80395.846070   \n",
      "std    1.732137e+08   2496.748484   2479.195192   2513.67868   2496.654391   \n",
      "min    1.743860e+12  74584.200000  74702.500000  74456.20000  74584.200000   \n",
      "25%    1.744010e+12  78393.050000  78466.475000  78304.55000  78393.050000   \n",
      "50%    1.744160e+12  80583.000000  80632.500000  80537.70000  80583.000000   \n",
      "75%    1.744310e+12  82774.275000  82800.000000  82750.20000  82774.275000   \n",
      "max    1.744460e+12  84239.500000  84288.000000  84100.00000  84239.500000   \n",
      "\n",
      "             volume  \n",
      "count  10000.000000  \n",
      "mean     116.372846  \n",
      "std      206.408674  \n",
      "min        0.946000  \n",
      "25%       27.887000  \n",
      "50%       59.174000  \n",
      "75%      124.009750  \n",
      "max     4595.508000  \n"
     ]
    }
   ],
   "source": [
    "summary_stats = global_df.describe()\n",
    "print(summary_stats)"
   ]
  },
  {
   "cell_type": "markdown",
   "id": "617df116",
   "metadata": {},
   "source": [
    "# Data Cleaning\n"
   ]
  },
  {
   "cell_type": "code",
   "execution_count": 16,
   "id": "6c0ff422",
   "metadata": {},
   "outputs": [
    {
     "name": "stdout",
     "output_type": "stream",
     "text": [
      "              start_time\n",
      "0    2025-04-05 13:35:00\n",
      "1    2025-04-05 13:36:00\n",
      "2    2025-04-05 13:37:00\n",
      "3    2025-04-05 13:38:00\n",
      "4    2025-04-05 13:39:00\n",
      "...                  ...\n",
      "9995 2025-04-12 12:10:00\n",
      "9996 2025-04-12 12:11:00\n",
      "9997 2025-04-12 12:12:00\n",
      "9998 2025-04-12 12:13:00\n",
      "9999 2025-04-12 12:14:00\n",
      "\n",
      "[10000 rows x 1 columns]\n"
     ]
    }
   ],
   "source": [
    "global_df['start_time'] = pd.to_datetime(global_df['start_time'], unit='ms')\n",
    "\n",
    "\n",
    "print(global_df[['start_time']])"
   ]
  },
  {
   "cell_type": "code",
   "execution_count": 17,
   "id": "abd21e1e",
   "metadata": {},
   "outputs": [
    {
     "data": {
      "text/html": [
       "<div>\n",
       "<style scoped>\n",
       "    .dataframe tbody tr th:only-of-type {\n",
       "        vertical-align: middle;\n",
       "    }\n",
       "\n",
       "    .dataframe tbody tr th {\n",
       "        vertical-align: top;\n",
       "    }\n",
       "\n",
       "    .dataframe thead th {\n",
       "        text-align: right;\n",
       "    }\n",
       "</style>\n",
       "<table border=\"1\" class=\"dataframe\">\n",
       "  <thead>\n",
       "    <tr style=\"text-align: right;\">\n",
       "      <th></th>\n",
       "      <th>start_time</th>\n",
       "      <th>close</th>\n",
       "      <th>high</th>\n",
       "      <th>low</th>\n",
       "      <th>open</th>\n",
       "      <th>volume</th>\n",
       "    </tr>\n",
       "  </thead>\n",
       "  <tbody>\n",
       "    <tr>\n",
       "      <th>0</th>\n",
       "      <td>2025-04-05 13:35:00</td>\n",
       "      <td>82738.1</td>\n",
       "      <td>82804.7</td>\n",
       "      <td>82738.0</td>\n",
       "      <td>82796.2</td>\n",
       "      <td>56.009</td>\n",
       "    </tr>\n",
       "    <tr>\n",
       "      <th>1</th>\n",
       "      <td>2025-04-05 13:36:00</td>\n",
       "      <td>82720.0</td>\n",
       "      <td>82745.0</td>\n",
       "      <td>82710.0</td>\n",
       "      <td>82738.1</td>\n",
       "      <td>57.188</td>\n",
       "    </tr>\n",
       "    <tr>\n",
       "      <th>2</th>\n",
       "      <td>2025-04-05 13:37:00</td>\n",
       "      <td>82703.1</td>\n",
       "      <td>82762.8</td>\n",
       "      <td>82703.0</td>\n",
       "      <td>82720.0</td>\n",
       "      <td>133.710</td>\n",
       "    </tr>\n",
       "    <tr>\n",
       "      <th>3</th>\n",
       "      <td>2025-04-05 13:38:00</td>\n",
       "      <td>82700.5</td>\n",
       "      <td>82725.9</td>\n",
       "      <td>82692.4</td>\n",
       "      <td>82703.1</td>\n",
       "      <td>37.703</td>\n",
       "    </tr>\n",
       "    <tr>\n",
       "      <th>4</th>\n",
       "      <td>2025-04-05 13:39:00</td>\n",
       "      <td>82734.8</td>\n",
       "      <td>82747.1</td>\n",
       "      <td>82690.1</td>\n",
       "      <td>82700.5</td>\n",
       "      <td>39.877</td>\n",
       "    </tr>\n",
       "  </tbody>\n",
       "</table>\n",
       "</div>"
      ],
      "text/plain": [
       "           start_time    close     high      low     open   volume\n",
       "0 2025-04-05 13:35:00  82738.1  82804.7  82738.0  82796.2   56.009\n",
       "1 2025-04-05 13:36:00  82720.0  82745.0  82710.0  82738.1   57.188\n",
       "2 2025-04-05 13:37:00  82703.1  82762.8  82703.0  82720.0  133.710\n",
       "3 2025-04-05 13:38:00  82700.5  82725.9  82692.4  82703.1   37.703\n",
       "4 2025-04-05 13:39:00  82734.8  82747.1  82690.1  82700.5   39.877"
      ]
     },
     "execution_count": 17,
     "metadata": {},
     "output_type": "execute_result"
    }
   ],
   "source": [
    "global_df.head()"
   ]
  },
  {
   "cell_type": "code",
   "execution_count": 18,
   "id": "2500ed6b",
   "metadata": {},
   "outputs": [
    {
     "data": {
      "text/html": [
       "<div>\n",
       "<style scoped>\n",
       "    .dataframe tbody tr th:only-of-type {\n",
       "        vertical-align: middle;\n",
       "    }\n",
       "\n",
       "    .dataframe tbody tr th {\n",
       "        vertical-align: top;\n",
       "    }\n",
       "\n",
       "    .dataframe thead th {\n",
       "        text-align: right;\n",
       "    }\n",
       "</style>\n",
       "<table border=\"1\" class=\"dataframe\">\n",
       "  <thead>\n",
       "    <tr style=\"text-align: right;\">\n",
       "      <th></th>\n",
       "      <th>start_time</th>\n",
       "      <th>close</th>\n",
       "      <th>high</th>\n",
       "      <th>low</th>\n",
       "      <th>open</th>\n",
       "      <th>volume</th>\n",
       "    </tr>\n",
       "  </thead>\n",
       "  <tbody>\n",
       "    <tr>\n",
       "      <th>9995</th>\n",
       "      <td>2025-04-12 12:10:00</td>\n",
       "      <td>83547.2</td>\n",
       "      <td>83560.0</td>\n",
       "      <td>83532.8</td>\n",
       "      <td>83552.2</td>\n",
       "      <td>30.189</td>\n",
       "    </tr>\n",
       "    <tr>\n",
       "      <th>9996</th>\n",
       "      <td>2025-04-12 12:11:00</td>\n",
       "      <td>83558.5</td>\n",
       "      <td>83562.0</td>\n",
       "      <td>83541.4</td>\n",
       "      <td>83547.2</td>\n",
       "      <td>8.373</td>\n",
       "    </tr>\n",
       "    <tr>\n",
       "      <th>9997</th>\n",
       "      <td>2025-04-12 12:12:00</td>\n",
       "      <td>83600.8</td>\n",
       "      <td>83600.8</td>\n",
       "      <td>83558.4</td>\n",
       "      <td>83558.5</td>\n",
       "      <td>50.641</td>\n",
       "    </tr>\n",
       "    <tr>\n",
       "      <th>9998</th>\n",
       "      <td>2025-04-12 12:13:00</td>\n",
       "      <td>83607.8</td>\n",
       "      <td>83607.8</td>\n",
       "      <td>83578.4</td>\n",
       "      <td>83600.8</td>\n",
       "      <td>33.155</td>\n",
       "    </tr>\n",
       "    <tr>\n",
       "      <th>9999</th>\n",
       "      <td>2025-04-12 12:14:00</td>\n",
       "      <td>83630.0</td>\n",
       "      <td>83647.9</td>\n",
       "      <td>83607.8</td>\n",
       "      <td>83607.8</td>\n",
       "      <td>81.404</td>\n",
       "    </tr>\n",
       "  </tbody>\n",
       "</table>\n",
       "</div>"
      ],
      "text/plain": [
       "              start_time    close     high      low     open  volume\n",
       "9995 2025-04-12 12:10:00  83547.2  83560.0  83532.8  83552.2  30.189\n",
       "9996 2025-04-12 12:11:00  83558.5  83562.0  83541.4  83547.2   8.373\n",
       "9997 2025-04-12 12:12:00  83600.8  83600.8  83558.4  83558.5  50.641\n",
       "9998 2025-04-12 12:13:00  83607.8  83607.8  83578.4  83600.8  33.155\n",
       "9999 2025-04-12 12:14:00  83630.0  83647.9  83607.8  83607.8  81.404"
      ]
     },
     "execution_count": 18,
     "metadata": {},
     "output_type": "execute_result"
    }
   ],
   "source": [
    "global_df.tail()"
   ]
  },
  {
   "cell_type": "code",
   "execution_count": 19,
   "id": "29cfb4fc",
   "metadata": {},
   "outputs": [
    {
     "name": "stdout",
     "output_type": "stream",
     "text": [
      "              start_time    close     high      low     open   volume\n",
      "0    2025-04-05 13:35:00  82738.1  82804.7  82738.0  82796.2   56.009\n",
      "1    2025-04-05 13:36:00  82720.0  82745.0  82710.0  82738.1   57.188\n",
      "2    2025-04-05 13:37:00  82703.1  82762.8  82703.0  82720.0  133.710\n",
      "3    2025-04-05 13:38:00  82700.5  82725.9  82692.4  82703.1   37.703\n",
      "4    2025-04-05 13:39:00  82734.8  82747.1  82690.1  82700.5   39.877\n",
      "...                  ...      ...      ...      ...      ...      ...\n",
      "9995 2025-04-12 12:10:00  83547.2  83560.0  83532.8  83552.2   30.189\n",
      "9996 2025-04-12 12:11:00  83558.5  83562.0  83541.4  83547.2    8.373\n",
      "9997 2025-04-12 12:12:00  83600.8  83600.8  83558.4  83558.5   50.641\n",
      "9998 2025-04-12 12:13:00  83607.8  83607.8  83578.4  83600.8   33.155\n",
      "9999 2025-04-12 12:14:00  83630.0  83647.9  83607.8  83607.8   81.404\n",
      "\n",
      "[10000 rows x 6 columns]\n"
     ]
    }
   ],
   "source": [
    "print(global_df)"
   ]
  },
  {
   "cell_type": "code",
   "execution_count": 20,
   "id": "b3046fc9",
   "metadata": {},
   "outputs": [
    {
     "data": {
      "text/plain": [
       "start_time    datetime64[ns]\n",
       "close                float64\n",
       "high                 float64\n",
       "low                  float64\n",
       "open                 float64\n",
       "volume               float64\n",
       "dtype: object"
      ]
     },
     "execution_count": 20,
     "metadata": {},
     "output_type": "execute_result"
    }
   ],
   "source": [
    "global_df.dtypes"
   ]
  },
  {
   "cell_type": "code",
   "execution_count": 21,
   "id": "05166b02",
   "metadata": {},
   "outputs": [
    {
     "data": {
      "text/plain": [
       "start_time    0\n",
       "close         0\n",
       "high          0\n",
       "low           0\n",
       "open          0\n",
       "volume        0\n",
       "dtype: int64"
      ]
     },
     "execution_count": 21,
     "metadata": {},
     "output_type": "execute_result"
    }
   ],
   "source": [
    "global_df.isnull().sum()"
   ]
  },
  {
   "cell_type": "markdown",
   "id": "9aa900c5",
   "metadata": {},
   "source": [
    "Percentage of missing value"
   ]
  },
  {
   "cell_type": "code",
   "execution_count": 22,
   "id": "d4209bcf",
   "metadata": {},
   "outputs": [
    {
     "data": {
      "text/plain": [
       "start_time    0.0\n",
       "close         0.0\n",
       "high          0.0\n",
       "low           0.0\n",
       "open          0.0\n",
       "volume        0.0\n",
       "dtype: float64"
      ]
     },
     "execution_count": 22,
     "metadata": {},
     "output_type": "execute_result"
    }
   ],
   "source": [
    "(global_df.isnull().sum()/(len(global_df)))*100"
   ]
  },
  {
   "cell_type": "markdown",
   "id": "740ed8cd",
   "metadata": {},
   "source": [
    "Check duplicate value"
   ]
  },
  {
   "cell_type": "code",
   "execution_count": 23,
   "id": "38544418",
   "metadata": {},
   "outputs": [
    {
     "data": {
      "text/plain": [
       "start_time    10000\n",
       "close         10000\n",
       "high          10000\n",
       "low           10000\n",
       "open          10000\n",
       "volume        10000\n",
       "dtype: int64"
      ]
     },
     "execution_count": 23,
     "metadata": {},
     "output_type": "execute_result"
    }
   ],
   "source": [
    "global_df.count()"
   ]
  },
  {
   "cell_type": "code",
   "execution_count": 24,
   "id": "11e56e6c",
   "metadata": {},
   "outputs": [
    {
     "data": {
      "text/plain": [
       "start_time    10000\n",
       "close          9031\n",
       "high           8611\n",
       "low            8657\n",
       "open           9032\n",
       "volume         9746\n",
       "dtype: int64"
      ]
     },
     "execution_count": 24,
     "metadata": {},
     "output_type": "execute_result"
    }
   ],
   "source": [
    "global_df.nunique()"
   ]
  },
  {
   "cell_type": "code",
   "execution_count": 25,
   "id": "9fe46654",
   "metadata": {},
   "outputs": [
    {
     "name": "stdout",
     "output_type": "stream",
     "text": [
      "Empty DataFrame\n",
      "Columns: [start_time, close, high, low, open, volume]\n",
      "Index: []\n"
     ]
    }
   ],
   "source": [
    "duplicate_rows = global_df.duplicated()\n",
    "\n",
    "# Display rows with duplicates\n",
    "duplicate_rows_df = global_df[duplicate_rows]\n",
    "print(duplicate_rows_df)"
   ]
  },
  {
   "cell_type": "code",
   "execution_count": 26,
   "id": "e58769f0",
   "metadata": {},
   "outputs": [
    {
     "data": {
      "text/html": [
       "<div>\n",
       "<style scoped>\n",
       "    .dataframe tbody tr th:only-of-type {\n",
       "        vertical-align: middle;\n",
       "    }\n",
       "\n",
       "    .dataframe tbody tr th {\n",
       "        vertical-align: top;\n",
       "    }\n",
       "\n",
       "    .dataframe thead th {\n",
       "        text-align: right;\n",
       "    }\n",
       "</style>\n",
       "<table border=\"1\" class=\"dataframe\">\n",
       "  <thead>\n",
       "    <tr style=\"text-align: right;\">\n",
       "      <th></th>\n",
       "      <th>start_time</th>\n",
       "      <th>close</th>\n",
       "      <th>high</th>\n",
       "      <th>low</th>\n",
       "      <th>open</th>\n",
       "      <th>volume</th>\n",
       "    </tr>\n",
       "  </thead>\n",
       "  <tbody>\n",
       "    <tr>\n",
       "      <th>0</th>\n",
       "      <td>2025-04-05 13:35:00</td>\n",
       "      <td>82738.1</td>\n",
       "      <td>82804.7</td>\n",
       "      <td>82738.0</td>\n",
       "      <td>82796.2</td>\n",
       "      <td>56.009</td>\n",
       "    </tr>\n",
       "    <tr>\n",
       "      <th>1</th>\n",
       "      <td>2025-04-05 13:36:00</td>\n",
       "      <td>82720.0</td>\n",
       "      <td>82745.0</td>\n",
       "      <td>82710.0</td>\n",
       "      <td>82738.1</td>\n",
       "      <td>57.188</td>\n",
       "    </tr>\n",
       "    <tr>\n",
       "      <th>2</th>\n",
       "      <td>2025-04-05 13:37:00</td>\n",
       "      <td>82703.1</td>\n",
       "      <td>82762.8</td>\n",
       "      <td>82703.0</td>\n",
       "      <td>82720.0</td>\n",
       "      <td>133.710</td>\n",
       "    </tr>\n",
       "    <tr>\n",
       "      <th>3</th>\n",
       "      <td>2025-04-05 13:38:00</td>\n",
       "      <td>82700.5</td>\n",
       "      <td>82725.9</td>\n",
       "      <td>82692.4</td>\n",
       "      <td>82703.1</td>\n",
       "      <td>37.703</td>\n",
       "    </tr>\n",
       "    <tr>\n",
       "      <th>4</th>\n",
       "      <td>2025-04-05 13:39:00</td>\n",
       "      <td>82734.8</td>\n",
       "      <td>82747.1</td>\n",
       "      <td>82690.1</td>\n",
       "      <td>82700.5</td>\n",
       "      <td>39.877</td>\n",
       "    </tr>\n",
       "  </tbody>\n",
       "</table>\n",
       "</div>"
      ],
      "text/plain": [
       "           start_time    close     high      low     open   volume\n",
       "0 2025-04-05 13:35:00  82738.1  82804.7  82738.0  82796.2   56.009\n",
       "1 2025-04-05 13:36:00  82720.0  82745.0  82710.0  82738.1   57.188\n",
       "2 2025-04-05 13:37:00  82703.1  82762.8  82703.0  82720.0  133.710\n",
       "3 2025-04-05 13:38:00  82700.5  82725.9  82692.4  82703.1   37.703\n",
       "4 2025-04-05 13:39:00  82734.8  82747.1  82690.1  82700.5   39.877"
      ]
     },
     "execution_count": 26,
     "metadata": {},
     "output_type": "execute_result"
    }
   ],
   "source": [
    "global_df.head()"
   ]
  },
  {
   "cell_type": "markdown",
   "id": "f2fc4329",
   "metadata": {},
   "source": [
    "Exploratory Data Analysis"
   ]
  },
  {
   "cell_type": "code",
   "execution_count": 27,
   "id": "c4fdafbb",
   "metadata": {},
   "outputs": [
    {
     "data": {
      "image/png": "[encoded data removed]",
      "text/plain": [
       "<Figure size 1000x500 with 1 Axes>"
      ]
     },
     "metadata": {},
     "output_type": "display_data"
    }
   ],
   "source": [
    "from matplotlib.dates import DateFormatter\n",
    "\n",
    "# Convert your time column\n",
    "global_df['start_time'] = pd.to_datetime(global_df['start_time'])\n",
    "\n",
    "# Get last 100 rows\n",
    "df_last = global_df.tail(100)\n",
    "\n",
    "# Plot\n",
    "fig, ax = plt.subplots(figsize=(10, 5))\n",
    "ax.plot(df_last['start_time'], df_last['close'], label='Close Price')\n",
    "\n",
    "# Set custom date format\n",
    "date_fmt = DateFormatter('%d/%m/%Y %H:%M')  # Example: 10/04/2025 07:45\n",
    "ax.xaxis.set_major_formatter(date_fmt)\n",
    "\n",
    "# Labeling\n",
    "ax.set_title('Close Price (Last 100 Points)')\n",
    "ax.set_xlabel('Time')\n",
    "ax.set_ylabel('Price')\n",
    "ax.legend()\n",
    "plt.xticks(rotation=45)\n",
    "plt.tight_layout()\n",
    "plt.show()"
   ]
  },
  {
   "cell_type": "markdown",
   "id": "5cc1e3e4",
   "metadata": {},
   "source": [
    "Uptrend (approx. 09:25–09:45): The price shows a gradual and consistent increase, suggesting positive market sentiment or buying pressure.\n",
    "\n",
    "Volatility Phase (approx. 09:45–10:00): Sharp up and down fluctuations in close price. This often suggests indecision, possible news events, or liquidity imbalances.\n",
    "\n",
    "Downtrend (approx. 10:00–10:30): Clear and sharp drop in price.\n",
    "May signal profit-taking, bearish sentiment, or reversal of earlier gains.\n",
    "\n",
    "Mild Recovery (approx. 10:30–11:00): After hitting a low, price slightly rises again. Indicates attempt to regain confidence, but still uncertain."
   ]
  },
  {
   "cell_type": "markdown",
   "id": "df224054",
   "metadata": {},
   "source": [
    "# Model Prediction & Backtest - Volatility"
   ]
  },
  {
   "cell_type": "code",
   "execution_count": 28,
   "id": "e5e7d0d4",
   "metadata": {},
   "outputs": [
    {
     "name": "stdout",
     "output_type": "stream",
     "text": [
      "              start_time\n",
      "0    2025-04-05 13:35:00\n",
      "1    2025-04-05 13:36:00\n",
      "2    2025-04-05 13:37:00\n",
      "3    2025-04-05 13:38:00\n",
      "4    2025-04-05 13:39:00\n",
      "...                  ...\n",
      "9995 2025-04-12 12:10:00\n",
      "9996 2025-04-12 12:11:00\n",
      "9997 2025-04-12 12:12:00\n",
      "9998 2025-04-12 12:13:00\n",
      "9999 2025-04-12 12:14:00\n",
      "\n",
      "[10000 rows x 1 columns]\n"
     ]
    }
   ],
   "source": [
    "global_df['start_time'] = pd.to_datetime(global_df['start_time'], unit='ms')\n",
    "\n",
    "\n",
    "print(global_df[['start_time']])"
   ]
  },
  {
   "cell_type": "code",
   "execution_count": 43,
   "id": "ada3052c",
   "metadata": {},
   "outputs": [
    {
     "data": {
      "image/png": "[encoded data removed]",
      "text/plain": [
       "<Figure size 1200x600 with 1 Axes>"
      ]
     },
     "metadata": {},
     "output_type": "display_data"
    },
    {
     "name": "stdout",
     "output_type": "stream",
     "text": [
      "Sharpe Ratio: -0.17\n",
      "Total Return: -9.03%\n",
      "Max Drawdown: -10.98%\n",
      "Trade Frequency: 2.95%\n"
     ]
    }
   ],
   "source": [
    "global_df['RangeVol'] = global_df['high'] - global_df['low']\n",
    "global_df['VolCluster'] = global_df['close'].rolling(window=10).std()\n",
    "epsilon = 1e-6\n",
    "global_df['upper_wick'] = global_df['high'] - global_df[['open', 'close']].max(axis=1)\n",
    "global_df['lower_wick'] = global_df[['open', 'close']].min(axis=1) - global_df['low']\n",
    "global_df['wick_ratio'] = (global_df['upper_wick'] + global_df['lower_wick']) / (global_df['high'] - global_df['low'] + epsilon)\n",
    "\n",
    "#improvement \n",
    "global_df['log_return'] = np.log(global_df['close'] / global_df['close'].shift(1))\n",
    "global_df['realized_vol'] = global_df['log_return'].rolling(window=10).std() * np.sqrt(252)\n",
    "global_df['range_pct'] = (global_df['high'] - global_df['low']) / global_df['low']\n",
    "\n",
    "\n",
    "global_df = global_df.dropna(subset=['VolCluster']).reset_index(drop=True)\n",
    "\n",
    "\n",
    "scaler = StandardScaler()\n",
    "global_df[['RangeVol', 'VolCluster', 'wick_ratio', 'log_return', 'realized_vol', 'range_pct']] = scaler.fit_transform(\n",
    "    global_df[['RangeVol', 'VolCluster', 'wick_ratio', 'log_return', 'realized_vol', 'range_pct']]\n",
    ")\n",
    "\n",
    "# Drop rows with NaN values in specific columns\n",
    "global_df.dropna(subset=[\n",
    "    'RangeVol', 'VolCluster', 'wick_ratio',\n",
    "    'log_return', 'realized_vol', 'range_pct'\n",
    "], inplace=True)\n",
    "\n",
    "global_df.reset_index(drop=True, inplace=True)\n",
    "\n",
    "# hmm model \n",
    "X = global_df[['RangeVol', 'VolCluster', 'wick_ratio', 'log_return', 'realized_vol', 'range_pct']].values\n",
    "model = GaussianHMM(n_components=3, covariance_type=\"full\", n_iter=200, random_state=42)\n",
    "model.fit(X)\n",
    "global_df['state'] = model.predict(X)\n",
    "\n",
    "# Signal\n",
    "global_df['return'] = global_df['close'].pct_change()\n",
    "returns_by_state = global_df.groupby('state')['return'].mean()\n",
    "good_state = returns_by_state.idxmax()\n",
    "\n",
    "\n",
    "global_df['signal'] = np.where(global_df['state'] == good_state, 1, 0)\n",
    "\n",
    "# backtest\n",
    "global_df['strategy_return'] = global_df['signal'].shift(1) * global_df['return']\n",
    "fee = 0.0006\n",
    "global_df['trade_occurred'] = global_df['signal'].diff().fillna(0) != 0\n",
    "global_df['strategy_return_net'] = np.where(\n",
    "    global_df['trade_occurred'], global_df['strategy_return'] - fee, global_df['strategy_return']\n",
    ")\n",
    "\n",
    "\n",
    "cumulative = (1 + global_df['strategy_return_net'].fillna(0)).cumprod()\n",
    "buy_hold = (1 + global_df['return'].fillna(0)).cumprod()\n",
    "sharpe = global_df['strategy_return_net'].mean() / global_df['strategy_return_net'].std() * np.sqrt(252)\n",
    "cumulative_return = cumulative.iloc[-1] - 1\n",
    "drawdown = cumulative / cumulative.cummax() - 1\n",
    "max_dd = drawdown.min()\n",
    "trade_freq = (global_df['signal'].diff() != 0).sum() / len(global_df)\n",
    "\n",
    "# === Plot ===\n",
    "plt.figure(figsize=(12, 6))\n",
    "plt.plot(global_df['start_time'], cumulative, label='HMM Strategy')\n",
    "plt.plot(global_df['start_time'], buy_hold, label='Buy & Hold', linestyle='--')\n",
    "plt.title(\"Strategy vs Buy & Hold\")\n",
    "plt.xlabel(\"Date\")\n",
    "plt.ylabel(\"Cumulative Return\")\n",
    "plt.legend()\n",
    "plt.tight_layout()\n",
    "plt.show()\n",
    "\n",
    "# === Print Metrics ===\n",
    "print(f\"Sharpe Ratio: {sharpe:.2f}\")\n",
    "print(f\"Total Return: {cumulative_return:.2%}\")\n",
    "print(f\"Max Drawdown: {max_dd:.2%}\")\n",
    "print(f\"Trade Frequency: {trade_freq:.2%}\")\n"
   ]
  }
 ],
 "metadata": {
  "kernelspec": {
   "display_name": "streamlitenv",
   "language": "python",
   "name": "python3"
  },
  "language_info": {
   "codemirror_mode": {
    "name": "ipython",
    "version": 3
   },
   "file_extension": ".py",
   "mimetype": "text/x-python",
   "name": "python",
   "nbconvert_exporter": "python",
   "pygments_lexer": "ipython3",
   "version": "3.11.9"
  }
 },
 "nbformat": 4,
 "nbformat_minor": 5
}
