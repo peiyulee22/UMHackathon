{
 "cells": [
  {
   "cell_type": "markdown",
   "id": "545548cc",
   "metadata": {},
   "source": [
    "Group: Ctrl+Defeat\n",
    "\n",
    "   "
   ]
  },
  {
   "cell_type": "markdown",
   "id": "a619674e",
   "metadata": {},
   "source": [
    "Assumption\n",
    "\n",
    "The larger the daily price range, the more volatile the market is. High volatility may indicate uncertainty, fear, or transition periods between market regimes. (higher price - lower price)"
   ]
  },
  {
   "cell_type": "markdown",
   "id": "98f7dda8",
   "metadata": {},
   "source": [
    "Hypothesis"
   ]
  },
  {
   "cell_type": "markdown",
   "id": "50663773",
   "metadata": {},
   "source": [
    "Load Data, Check Data whether is null or not"
   ]
  },
  {
   "cell_type": "code",
   "execution_count": 49,
   "id": "ed922d7a",
   "metadata": {},
   "outputs": [
    {
     "name": "stdout",
     "output_type": "stream",
     "text": [
      "Requirement already satisfied: cybotrade_datasource in c:\\users\\scsm11\\anaconda3\\envs\\streamlitenv\\lib\\site-packages (0.1.1)\n",
      "Requirement already satisfied: python-dotenv in c:\\users\\scsm11\\anaconda3\\envs\\streamlitenv\\lib\\site-packages (1.1.0)\n",
      "['__builtins__', '__cached__', '__doc__', '__file__', '__loader__', '__name__', '__package__', '__path__', '__spec__', 'cybotrade_datasource', 'query', 'query_paginated', 'stream']\n",
      "DataFrame 1 (bybit-linear|candle?symbol=BTCUSDT&interval=1m)\n",
      "<bound method NDFrame.head of          start_time    close     high      low     open   volume\n",
      "0     1743682800000  82810.9  82862.1  82803.4  82849.9   72.958\n",
      "1     1743682860000  82800.1  82845.3  82774.2  82810.9  190.549\n",
      "2     1743682920000  82787.9  82833.0  82757.1  82800.1  115.033\n",
      "3     1743682980000  82719.9  82802.5  82715.5  82787.9   86.747\n",
      "4     1743683040000  82700.1  82736.0  82700.1  82719.9   69.310\n",
      "...             ...      ...      ...      ...      ...      ...\n",
      "9995  1744282500000  81642.1  81642.1  81613.9  81621.1   14.268\n",
      "9996  1744282560000  81647.7  81660.6  81620.0  81642.1   31.397\n",
      "9997  1744282620000  81714.2  81714.3  81641.9  81647.7   24.937\n",
      "9998  1744282680000  81730.7  81730.8  81700.0  81714.2   29.491\n",
      "9999  1744282740000  81720.5  81730.8  81720.5  81730.7   12.913\n",
      "\n",
      "[10000 rows x 6 columns]>\n",
      "start_time    0\n",
      "close         0\n",
      "high          0\n",
      "low           0\n",
      "open          0\n",
      "volume        0\n",
      "dtype: int64\n"
     ]
    }
   ],
   "source": [
    "!pip install cybotrade_datasource\n",
    "!pip install python-dotenv\n",
    "\n",
    "import pandas as pd\n",
    "import numpy as np\n",
    "import asyncio\n",
    "import cybotrade_datasource\n",
    "from datetime import datetime, timezone\n",
    "from dotenv import load_dotenv\n",
    "import os\n",
    "import matplotlib.pyplot as plt\n",
    "import seaborn as sns\n",
    "import matplotlib.dates as mdates\n",
    "\n",
    "import warnings as wr\n",
    "wr.filterwarnings('ignore')\n",
    "\n",
    "print(dir(cybotrade_datasource))\n",
    "\n",
    "load_dotenv()\n",
    "\n",
    "API_KEY = os.getenv('CYBOTRADE_API_KEY')\n",
    "\n",
    "'''\n",
    "async def main():\n",
    "    data = await cybotrade_datasource.query_paginated(\n",
    "        api_key=API_KEY, \n",
    "        topic='cryptoquant|btc/inter-entity-flows/miner-to-miner?from_miner=f2pool&to_miner=all_miner&window=hour', \n",
    "        start_time=datetime(year=2024, month=1, day=1, tzinfo=timezone.utc),\n",
    "        end_time=datetime(year=2025, month=1, day=1, tzinfo=timezone.utc)\n",
    "    )\n",
    "    df = pd.DataFrame(data)\n",
    "    print(df)\n",
    "    \n",
    "\n",
    "await main()\n",
    "'''\n",
    "\n",
    "'''\n",
    "async def main():\n",
    "    stream = await cybotrade_datasource.stream(\n",
    "        api_key=API_KEY,\n",
    "        topics=[\n",
    "            'cryptoquant|btc/inter-entity-flows/miner-to-miner?from_miner=f2pool&to_miner=all_miner&window=hour',\n",
    "            'cryptoquant|btc/market-data/liquidations?exchange=deribit&window=min',\n",
    "        ],\n",
    "    )\n",
    "    async for msg in stream:\n",
    "        print(msg)\n",
    "    \n",
    "\n",
    "await main()\n",
    "'''\n",
    "\n",
    "global_df = None \n",
    "\n",
    "async def get_data(topic):\n",
    "    data = await cybotrade_datasource.query_paginated(\n",
    "        api_key=API_KEY, \n",
    "        topic=topic, \n",
    "        limit=10000\n",
    "    )\n",
    "    return pd.DataFrame(data)\n",
    "\n",
    "\n",
    "async def main():\n",
    "    global global_df\n",
    "\n",
    "    topics = [\n",
    "        \"bybit-linear|candle?symbol=BTCUSDT&interval=1m\",\n",
    "    ]\n",
    "\n",
    "#topic\n",
    "#\"cryptoquant|btc/market-data/open-interest?exchange=bybit&window=min\",\n",
    "#bybit-linear|candle?interval=1m&symbol=BTCUSDT\n",
    "#\"cryptoquant|btc/market-data/coinbase-premium-index?window=hour\",\n",
    "#\"cryptoquant|btc/exchange-flows/outflow?exchange=coinbase_advanced&window=hour\",\n",
    "#\"glassnode|market/deltacap_usd?a=BTC&i=10m\",\n",
    "\n",
    "    tasks = [get_data(topic) for topic in topics]\n",
    "    dataframes = await asyncio.gather(*tasks)\n",
    "\n",
    "    for i, df in enumerate(dataframes):\n",
    "        print(f\"DataFrame {i+1} ({topics[i]})\")\n",
    "        print(df.head)\n",
    "        print(df.isnull().sum())\n",
    "        global_df = df\n",
    "\n",
    "await main()\n"
   ]
  },
  {
   "cell_type": "markdown",
   "id": "bf795165",
   "metadata": {},
   "source": [
    "Display first five column of the dataframe"
   ]
  },
  {
   "cell_type": "code",
   "execution_count": 50,
   "id": "a78ed0d7",
   "metadata": {},
   "outputs": [
    {
     "name": "stdout",
     "output_type": "stream",
     "text": [
      "         start_time    close     high      low     open   volume\n",
      "0     1743682800000  82810.9  82862.1  82803.4  82849.9   72.958\n",
      "1     1743682860000  82800.1  82845.3  82774.2  82810.9  190.549\n",
      "2     1743682920000  82787.9  82833.0  82757.1  82800.1  115.033\n",
      "3     1743682980000  82719.9  82802.5  82715.5  82787.9   86.747\n",
      "4     1743683040000  82700.1  82736.0  82700.1  82719.9   69.310\n",
      "...             ...      ...      ...      ...      ...      ...\n",
      "9995  1744282500000  81642.1  81642.1  81613.9  81621.1   14.268\n",
      "9996  1744282560000  81647.7  81660.6  81620.0  81642.1   31.397\n",
      "9997  1744282620000  81714.2  81714.3  81641.9  81647.7   24.937\n",
      "9998  1744282680000  81730.7  81730.8  81700.0  81714.2   29.491\n",
      "9999  1744282740000  81720.5  81730.8  81720.5  81730.7   12.913\n",
      "\n",
      "[10000 rows x 6 columns]\n"
     ]
    }
   ],
   "source": [
    "print(global_df)"
   ]
  },
  {
   "cell_type": "markdown",
   "id": "828155df",
   "metadata": {},
   "source": [
    "Analyze Data (first five and last five)"
   ]
  },
  {
   "cell_type": "code",
   "execution_count": 51,
   "id": "86afdd15",
   "metadata": {},
   "outputs": [
    {
     "data": {
      "text/html": [
       "<div>\n",
       "<style scoped>\n",
       "    .dataframe tbody tr th:only-of-type {\n",
       "        vertical-align: middle;\n",
       "    }\n",
       "\n",
       "    .dataframe tbody tr th {\n",
       "        vertical-align: top;\n",
       "    }\n",
       "\n",
       "    .dataframe thead th {\n",
       "        text-align: right;\n",
       "    }\n",
       "</style>\n",
       "<table border=\"1\" class=\"dataframe\">\n",
       "  <thead>\n",
       "    <tr style=\"text-align: right;\">\n",
       "      <th></th>\n",
       "      <th>start_time</th>\n",
       "      <th>close</th>\n",
       "      <th>high</th>\n",
       "      <th>low</th>\n",
       "      <th>open</th>\n",
       "      <th>volume</th>\n",
       "    </tr>\n",
       "  </thead>\n",
       "  <tbody>\n",
       "    <tr>\n",
       "      <th>0</th>\n",
       "      <td>1743682800000</td>\n",
       "      <td>82810.9</td>\n",
       "      <td>82862.1</td>\n",
       "      <td>82803.4</td>\n",
       "      <td>82849.9</td>\n",
       "      <td>72.958</td>\n",
       "    </tr>\n",
       "    <tr>\n",
       "      <th>1</th>\n",
       "      <td>1743682860000</td>\n",
       "      <td>82800.1</td>\n",
       "      <td>82845.3</td>\n",
       "      <td>82774.2</td>\n",
       "      <td>82810.9</td>\n",
       "      <td>190.549</td>\n",
       "    </tr>\n",
       "    <tr>\n",
       "      <th>2</th>\n",
       "      <td>1743682920000</td>\n",
       "      <td>82787.9</td>\n",
       "      <td>82833.0</td>\n",
       "      <td>82757.1</td>\n",
       "      <td>82800.1</td>\n",
       "      <td>115.033</td>\n",
       "    </tr>\n",
       "    <tr>\n",
       "      <th>3</th>\n",
       "      <td>1743682980000</td>\n",
       "      <td>82719.9</td>\n",
       "      <td>82802.5</td>\n",
       "      <td>82715.5</td>\n",
       "      <td>82787.9</td>\n",
       "      <td>86.747</td>\n",
       "    </tr>\n",
       "    <tr>\n",
       "      <th>4</th>\n",
       "      <td>1743683040000</td>\n",
       "      <td>82700.1</td>\n",
       "      <td>82736.0</td>\n",
       "      <td>82700.1</td>\n",
       "      <td>82719.9</td>\n",
       "      <td>69.310</td>\n",
       "    </tr>\n",
       "  </tbody>\n",
       "</table>\n",
       "</div>"
      ],
      "text/plain": [
       "      start_time    close     high      low     open   volume\n",
       "0  1743682800000  82810.9  82862.1  82803.4  82849.9   72.958\n",
       "1  1743682860000  82800.1  82845.3  82774.2  82810.9  190.549\n",
       "2  1743682920000  82787.9  82833.0  82757.1  82800.1  115.033\n",
       "3  1743682980000  82719.9  82802.5  82715.5  82787.9   86.747\n",
       "4  1743683040000  82700.1  82736.0  82700.1  82719.9   69.310"
      ]
     },
     "execution_count": 51,
     "metadata": {},
     "output_type": "execute_result"
    }
   ],
   "source": [
    "global_df.head()"
   ]
  },
  {
   "cell_type": "code",
   "execution_count": 52,
   "id": "78d045fd",
   "metadata": {},
   "outputs": [
    {
     "data": {
      "text/html": [
       "<div>\n",
       "<style scoped>\n",
       "    .dataframe tbody tr th:only-of-type {\n",
       "        vertical-align: middle;\n",
       "    }\n",
       "\n",
       "    .dataframe tbody tr th {\n",
       "        vertical-align: top;\n",
       "    }\n",
       "\n",
       "    .dataframe thead th {\n",
       "        text-align: right;\n",
       "    }\n",
       "</style>\n",
       "<table border=\"1\" class=\"dataframe\">\n",
       "  <thead>\n",
       "    <tr style=\"text-align: right;\">\n",
       "      <th></th>\n",
       "      <th>start_time</th>\n",
       "      <th>close</th>\n",
       "      <th>high</th>\n",
       "      <th>low</th>\n",
       "      <th>open</th>\n",
       "      <th>volume</th>\n",
       "    </tr>\n",
       "  </thead>\n",
       "  <tbody>\n",
       "    <tr>\n",
       "      <th>9995</th>\n",
       "      <td>1744282500000</td>\n",
       "      <td>81642.1</td>\n",
       "      <td>81642.1</td>\n",
       "      <td>81613.9</td>\n",
       "      <td>81621.1</td>\n",
       "      <td>14.268</td>\n",
       "    </tr>\n",
       "    <tr>\n",
       "      <th>9996</th>\n",
       "      <td>1744282560000</td>\n",
       "      <td>81647.7</td>\n",
       "      <td>81660.6</td>\n",
       "      <td>81620.0</td>\n",
       "      <td>81642.1</td>\n",
       "      <td>31.397</td>\n",
       "    </tr>\n",
       "    <tr>\n",
       "      <th>9997</th>\n",
       "      <td>1744282620000</td>\n",
       "      <td>81714.2</td>\n",
       "      <td>81714.3</td>\n",
       "      <td>81641.9</td>\n",
       "      <td>81647.7</td>\n",
       "      <td>24.937</td>\n",
       "    </tr>\n",
       "    <tr>\n",
       "      <th>9998</th>\n",
       "      <td>1744282680000</td>\n",
       "      <td>81730.7</td>\n",
       "      <td>81730.8</td>\n",
       "      <td>81700.0</td>\n",
       "      <td>81714.2</td>\n",
       "      <td>29.491</td>\n",
       "    </tr>\n",
       "    <tr>\n",
       "      <th>9999</th>\n",
       "      <td>1744282740000</td>\n",
       "      <td>81720.5</td>\n",
       "      <td>81730.8</td>\n",
       "      <td>81720.5</td>\n",
       "      <td>81730.7</td>\n",
       "      <td>12.913</td>\n",
       "    </tr>\n",
       "  </tbody>\n",
       "</table>\n",
       "</div>"
      ],
      "text/plain": [
       "         start_time    close     high      low     open  volume\n",
       "9995  1744282500000  81642.1  81642.1  81613.9  81621.1  14.268\n",
       "9996  1744282560000  81647.7  81660.6  81620.0  81642.1  31.397\n",
       "9997  1744282620000  81714.2  81714.3  81641.9  81647.7  24.937\n",
       "9998  1744282680000  81730.7  81730.8  81700.0  81714.2  29.491\n",
       "9999  1744282740000  81720.5  81730.8  81720.5  81730.7  12.913"
      ]
     },
     "execution_count": 52,
     "metadata": {},
     "output_type": "execute_result"
    }
   ],
   "source": [
    "global_df.tail()"
   ]
  },
  {
   "cell_type": "code",
   "execution_count": 53,
   "id": "8595ee93",
   "metadata": {},
   "outputs": [
    {
     "data": {
      "text/plain": [
       "(10000, 6)"
      ]
     },
     "execution_count": 53,
     "metadata": {},
     "output_type": "execute_result"
    }
   ],
   "source": [
    "global_df.shape"
   ]
  },
  {
   "cell_type": "code",
   "execution_count": 54,
   "id": "81969534",
   "metadata": {},
   "outputs": [
    {
     "name": "stdout",
     "output_type": "stream",
     "text": [
      "10000\n"
     ]
    }
   ],
   "source": [
    "num_rows = len(global_df)\n",
    "print(num_rows)"
   ]
  },
  {
   "cell_type": "markdown",
   "id": "d1c7a0e6",
   "metadata": {},
   "source": [
    "We had 10000 rows in this dataset (latest)"
   ]
  },
  {
   "cell_type": "code",
   "execution_count": 55,
   "id": "6fd811af",
   "metadata": {},
   "outputs": [
    {
     "name": "stdout",
     "output_type": "stream",
     "text": [
      "Categorical Variables:\n",
      "Index([], dtype='object')\n",
      "Numerical Variables:\n",
      "['start_time', 'close', 'high', 'low', 'open', 'volume']\n"
     ]
    }
   ],
   "source": [
    "cat_cols = global_df.select_dtypes(include=['object']).columns\n",
    "num_cols = global_df.select_dtypes(include=np.number).columns.tolist()\n",
    "print(\"Categorical Variables:\")\n",
    "print(cat_cols)\n",
    "print(\"Numerical Variables:\")\n",
    "print(num_cols)"
   ]
  },
  {
   "cell_type": "code",
   "execution_count": 56,
   "id": "200c03ac",
   "metadata": {},
   "outputs": [
    {
     "name": "stdout",
     "output_type": "stream",
     "text": [
      "<class 'pandas.core.frame.DataFrame'>\n",
      "RangeIndex: 10000 entries, 0 to 9999\n",
      "Data columns (total 6 columns):\n",
      " #   Column      Non-Null Count  Dtype  \n",
      "---  ------      --------------  -----  \n",
      " 0   start_time  10000 non-null  int64  \n",
      " 1   close       10000 non-null  float64\n",
      " 2   high        10000 non-null  float64\n",
      " 3   low         10000 non-null  float64\n",
      " 4   open        10000 non-null  float64\n",
      " 5   volume      10000 non-null  float64\n",
      "dtypes: float64(5), int64(1)\n",
      "memory usage: 468.9 KB\n"
     ]
    }
   ],
   "source": [
    "global_df.info()"
   ]
  },
  {
   "cell_type": "markdown",
   "id": "66166020",
   "metadata": {},
   "source": [
    "Obtain a statistical summary of the dataframe using describe"
   ]
  },
  {
   "cell_type": "code",
   "execution_count": 57,
   "id": "cf746f02",
   "metadata": {},
   "outputs": [
    {
     "data": {
      "text/html": [
       "<div>\n",
       "<style scoped>\n",
       "    .dataframe tbody tr th:only-of-type {\n",
       "        vertical-align: middle;\n",
       "    }\n",
       "\n",
       "    .dataframe tbody tr th {\n",
       "        vertical-align: top;\n",
       "    }\n",
       "\n",
       "    .dataframe thead th {\n",
       "        text-align: right;\n",
       "    }\n",
       "</style>\n",
       "<table border=\"1\" class=\"dataframe\">\n",
       "  <thead>\n",
       "    <tr style=\"text-align: right;\">\n",
       "      <th></th>\n",
       "      <th>start_time</th>\n",
       "      <th>close</th>\n",
       "      <th>high</th>\n",
       "      <th>low</th>\n",
       "      <th>open</th>\n",
       "      <th>volume</th>\n",
       "    </tr>\n",
       "  </thead>\n",
       "  <tbody>\n",
       "    <tr>\n",
       "      <th>count</th>\n",
       "      <td>1.000000e+04</td>\n",
       "      <td>10000.000000</td>\n",
       "      <td>10000.000000</td>\n",
       "      <td>10000.000000</td>\n",
       "      <td>10000.000000</td>\n",
       "      <td>10000.000000</td>\n",
       "    </tr>\n",
       "    <tr>\n",
       "      <th>mean</th>\n",
       "      <td>1.743983e+12</td>\n",
       "      <td>80772.798970</td>\n",
       "      <td>80821.547290</td>\n",
       "      <td>80725.567140</td>\n",
       "      <td>80772.911910</td>\n",
       "      <td>117.280415</td>\n",
       "    </tr>\n",
       "    <tr>\n",
       "      <th>std</th>\n",
       "      <td>1.732137e+08</td>\n",
       "      <td>2669.165079</td>\n",
       "      <td>2651.928404</td>\n",
       "      <td>2686.202201</td>\n",
       "      <td>2669.229076</td>\n",
       "      <td>205.646963</td>\n",
       "    </tr>\n",
       "    <tr>\n",
       "      <th>min</th>\n",
       "      <td>1.743683e+12</td>\n",
       "      <td>74584.200000</td>\n",
       "      <td>74702.500000</td>\n",
       "      <td>74456.200000</td>\n",
       "      <td>74584.200000</td>\n",
       "      <td>0.946000</td>\n",
       "    </tr>\n",
       "    <tr>\n",
       "      <th>25%</th>\n",
       "      <td>1.743833e+12</td>\n",
       "      <td>78393.050000</td>\n",
       "      <td>78466.475000</td>\n",
       "      <td>78304.550000</td>\n",
       "      <td>78393.050000</td>\n",
       "      <td>25.845250</td>\n",
       "    </tr>\n",
       "    <tr>\n",
       "      <th>50%</th>\n",
       "      <td>1.743983e+12</td>\n",
       "      <td>81956.500000</td>\n",
       "      <td>81999.900000</td>\n",
       "      <td>81906.900000</td>\n",
       "      <td>81957.650000</td>\n",
       "      <td>59.004000</td>\n",
       "    </tr>\n",
       "    <tr>\n",
       "      <th>75%</th>\n",
       "      <td>1.744133e+12</td>\n",
       "      <td>83017.725000</td>\n",
       "      <td>83044.150000</td>\n",
       "      <td>82993.525000</td>\n",
       "      <td>83017.725000</td>\n",
       "      <td>130.400250</td>\n",
       "    </tr>\n",
       "    <tr>\n",
       "      <th>max</th>\n",
       "      <td>1.744283e+12</td>\n",
       "      <td>84670.200000</td>\n",
       "      <td>84736.000000</td>\n",
       "      <td>84656.100000</td>\n",
       "      <td>84670.200000</td>\n",
       "      <td>4595.508000</td>\n",
       "    </tr>\n",
       "  </tbody>\n",
       "</table>\n",
       "</div>"
      ],
      "text/plain": [
       "         start_time         close          high           low          open  \\\n",
       "count  1.000000e+04  10000.000000  10000.000000  10000.000000  10000.000000   \n",
       "mean   1.743983e+12  80772.798970  80821.547290  80725.567140  80772.911910   \n",
       "std    1.732137e+08   2669.165079   2651.928404   2686.202201   2669.229076   \n",
       "min    1.743683e+12  74584.200000  74702.500000  74456.200000  74584.200000   \n",
       "25%    1.743833e+12  78393.050000  78466.475000  78304.550000  78393.050000   \n",
       "50%    1.743983e+12  81956.500000  81999.900000  81906.900000  81957.650000   \n",
       "75%    1.744133e+12  83017.725000  83044.150000  82993.525000  83017.725000   \n",
       "max    1.744283e+12  84670.200000  84736.000000  84656.100000  84670.200000   \n",
       "\n",
       "             volume  \n",
       "count  10000.000000  \n",
       "mean     117.280415  \n",
       "std      205.646963  \n",
       "min        0.946000  \n",
       "25%       25.845250  \n",
       "50%       59.004000  \n",
       "75%      130.400250  \n",
       "max     4595.508000  "
      ]
     },
     "execution_count": 57,
     "metadata": {},
     "output_type": "execute_result"
    }
   ],
   "source": [
    "global_df.describe()"
   ]
  },
  {
   "cell_type": "code",
   "execution_count": 58,
   "id": "86fd0ca9",
   "metadata": {},
   "outputs": [
    {
     "data": {
      "text/html": [
       "<div>\n",
       "<style scoped>\n",
       "    .dataframe tbody tr th:only-of-type {\n",
       "        vertical-align: middle;\n",
       "    }\n",
       "\n",
       "    .dataframe tbody tr th {\n",
       "        vertical-align: top;\n",
       "    }\n",
       "\n",
       "    .dataframe thead th {\n",
       "        text-align: right;\n",
       "    }\n",
       "</style>\n",
       "<table border=\"1\" class=\"dataframe\">\n",
       "  <thead>\n",
       "    <tr style=\"text-align: right;\">\n",
       "      <th></th>\n",
       "      <th>start_time</th>\n",
       "      <th>close</th>\n",
       "      <th>high</th>\n",
       "      <th>low</th>\n",
       "      <th>open</th>\n",
       "      <th>volume</th>\n",
       "    </tr>\n",
       "  </thead>\n",
       "  <tbody>\n",
       "    <tr>\n",
       "      <th>count</th>\n",
       "      <td>1.000000e+04</td>\n",
       "      <td>10000.000000</td>\n",
       "      <td>10000.000000</td>\n",
       "      <td>10000.000000</td>\n",
       "      <td>10000.000000</td>\n",
       "      <td>10000.000000</td>\n",
       "    </tr>\n",
       "    <tr>\n",
       "      <th>mean</th>\n",
       "      <td>1.743983e+12</td>\n",
       "      <td>80772.798970</td>\n",
       "      <td>80821.547290</td>\n",
       "      <td>80725.567140</td>\n",
       "      <td>80772.911910</td>\n",
       "      <td>117.280415</td>\n",
       "    </tr>\n",
       "    <tr>\n",
       "      <th>std</th>\n",
       "      <td>1.732137e+08</td>\n",
       "      <td>2669.165079</td>\n",
       "      <td>2651.928404</td>\n",
       "      <td>2686.202201</td>\n",
       "      <td>2669.229076</td>\n",
       "      <td>205.646963</td>\n",
       "    </tr>\n",
       "    <tr>\n",
       "      <th>min</th>\n",
       "      <td>1.743683e+12</td>\n",
       "      <td>74584.200000</td>\n",
       "      <td>74702.500000</td>\n",
       "      <td>74456.200000</td>\n",
       "      <td>74584.200000</td>\n",
       "      <td>0.946000</td>\n",
       "    </tr>\n",
       "    <tr>\n",
       "      <th>25%</th>\n",
       "      <td>1.743833e+12</td>\n",
       "      <td>78393.050000</td>\n",
       "      <td>78466.475000</td>\n",
       "      <td>78304.550000</td>\n",
       "      <td>78393.050000</td>\n",
       "      <td>25.845250</td>\n",
       "    </tr>\n",
       "    <tr>\n",
       "      <th>50%</th>\n",
       "      <td>1.743983e+12</td>\n",
       "      <td>81956.500000</td>\n",
       "      <td>81999.900000</td>\n",
       "      <td>81906.900000</td>\n",
       "      <td>81957.650000</td>\n",
       "      <td>59.004000</td>\n",
       "    </tr>\n",
       "    <tr>\n",
       "      <th>75%</th>\n",
       "      <td>1.744133e+12</td>\n",
       "      <td>83017.725000</td>\n",
       "      <td>83044.150000</td>\n",
       "      <td>82993.525000</td>\n",
       "      <td>83017.725000</td>\n",
       "      <td>130.400250</td>\n",
       "    </tr>\n",
       "    <tr>\n",
       "      <th>max</th>\n",
       "      <td>1.744283e+12</td>\n",
       "      <td>84670.200000</td>\n",
       "      <td>84736.000000</td>\n",
       "      <td>84656.100000</td>\n",
       "      <td>84670.200000</td>\n",
       "      <td>4595.508000</td>\n",
       "    </tr>\n",
       "  </tbody>\n",
       "</table>\n",
       "</div>"
      ],
      "text/plain": [
       "         start_time         close          high           low          open  \\\n",
       "count  1.000000e+04  10000.000000  10000.000000  10000.000000  10000.000000   \n",
       "mean   1.743983e+12  80772.798970  80821.547290  80725.567140  80772.911910   \n",
       "std    1.732137e+08   2669.165079   2651.928404   2686.202201   2669.229076   \n",
       "min    1.743683e+12  74584.200000  74702.500000  74456.200000  74584.200000   \n",
       "25%    1.743833e+12  78393.050000  78466.475000  78304.550000  78393.050000   \n",
       "50%    1.743983e+12  81956.500000  81999.900000  81906.900000  81957.650000   \n",
       "75%    1.744133e+12  83017.725000  83044.150000  82993.525000  83017.725000   \n",
       "max    1.744283e+12  84670.200000  84736.000000  84656.100000  84670.200000   \n",
       "\n",
       "             volume  \n",
       "count  10000.000000  \n",
       "mean     117.280415  \n",
       "std      205.646963  \n",
       "min        0.946000  \n",
       "25%       25.845250  \n",
       "50%       59.004000  \n",
       "75%      130.400250  \n",
       "max     4595.508000  "
      ]
     },
     "execution_count": 58,
     "metadata": {},
     "output_type": "execute_result"
    }
   ],
   "source": [
    "global_df.describe(include='all')"
   ]
  },
  {
   "cell_type": "code",
   "execution_count": 59,
   "id": "ef6aff3c",
   "metadata": {},
   "outputs": [
    {
     "name": "stdout",
     "output_type": "stream",
     "text": [
      "Rows:  10000 Columns:  6\n"
     ]
    }
   ],
   "source": [
    "num_rows = global_df.shape[0]\n",
    "num_cols = global_df.shape[1]\n",
    "print(\"Rows: \", num_rows, \"Columns: \", num_cols)\n"
   ]
  },
  {
   "cell_type": "markdown",
   "id": "9c58da22",
   "metadata": {},
   "source": [
    "Show columns's data types using the property df.dtypes"
   ]
  },
  {
   "cell_type": "code",
   "execution_count": 60,
   "id": "b045513a",
   "metadata": {},
   "outputs": [
    {
     "data": {
      "text/plain": [
       "start_time      int64\n",
       "close         float64\n",
       "high          float64\n",
       "low           float64\n",
       "open          float64\n",
       "volume        float64\n",
       "dtype: object"
      ]
     },
     "execution_count": 60,
     "metadata": {},
     "output_type": "execute_result"
    }
   ],
   "source": [
    "global_df.dtypes"
   ]
  },
  {
   "cell_type": "code",
   "execution_count": 61,
   "id": "5f7f54e8",
   "metadata": {},
   "outputs": [
    {
     "name": "stdout",
     "output_type": "stream",
     "text": [
      "         start_time         close          high           low          open  \\\n",
      "count  1.000000e+04  10000.000000  10000.000000  10000.000000  10000.000000   \n",
      "mean   1.743983e+12  80772.798970  80821.547290  80725.567140  80772.911910   \n",
      "std    1.732137e+08   2669.165079   2651.928404   2686.202201   2669.229076   \n",
      "min    1.743683e+12  74584.200000  74702.500000  74456.200000  74584.200000   \n",
      "25%    1.743833e+12  78393.050000  78466.475000  78304.550000  78393.050000   \n",
      "50%    1.743983e+12  81956.500000  81999.900000  81906.900000  81957.650000   \n",
      "75%    1.744133e+12  83017.725000  83044.150000  82993.525000  83017.725000   \n",
      "max    1.744283e+12  84670.200000  84736.000000  84656.100000  84670.200000   \n",
      "\n",
      "             volume  \n",
      "count  10000.000000  \n",
      "mean     117.280415  \n",
      "std      205.646963  \n",
      "min        0.946000  \n",
      "25%       25.845250  \n",
      "50%       59.004000  \n",
      "75%      130.400250  \n",
      "max     4595.508000  \n"
     ]
    }
   ],
   "source": [
    "summary_stats = global_df.describe()\n",
    "print(summary_stats)"
   ]
  },
  {
   "cell_type": "markdown",
   "id": "617df116",
   "metadata": {},
   "source": [
    "Data Cleaning\n"
   ]
  },
  {
   "cell_type": "code",
   "execution_count": 62,
   "id": "6c0ff422",
   "metadata": {},
   "outputs": [
    {
     "name": "stdout",
     "output_type": "stream",
     "text": [
      "              start_time\n",
      "0    2025-04-03 12:20:00\n",
      "1    2025-04-03 12:21:00\n",
      "2    2025-04-03 12:22:00\n",
      "3    2025-04-03 12:23:00\n",
      "4    2025-04-03 12:24:00\n",
      "...                  ...\n",
      "9995 2025-04-10 10:55:00\n",
      "9996 2025-04-10 10:56:00\n",
      "9997 2025-04-10 10:57:00\n",
      "9998 2025-04-10 10:58:00\n",
      "9999 2025-04-10 10:59:00\n",
      "\n",
      "[10000 rows x 1 columns]\n"
     ]
    }
   ],
   "source": [
    "global_df['start_time'] = pd.to_datetime(global_df['start_time'], unit='ms')\n",
    "\n",
    "\n",
    "print(global_df[['start_time']])"
   ]
  },
  {
   "cell_type": "code",
   "execution_count": 63,
   "id": "abd21e1e",
   "metadata": {},
   "outputs": [
    {
     "data": {
      "text/html": [
       "<div>\n",
       "<style scoped>\n",
       "    .dataframe tbody tr th:only-of-type {\n",
       "        vertical-align: middle;\n",
       "    }\n",
       "\n",
       "    .dataframe tbody tr th {\n",
       "        vertical-align: top;\n",
       "    }\n",
       "\n",
       "    .dataframe thead th {\n",
       "        text-align: right;\n",
       "    }\n",
       "</style>\n",
       "<table border=\"1\" class=\"dataframe\">\n",
       "  <thead>\n",
       "    <tr style=\"text-align: right;\">\n",
       "      <th></th>\n",
       "      <th>start_time</th>\n",
       "      <th>close</th>\n",
       "      <th>high</th>\n",
       "      <th>low</th>\n",
       "      <th>open</th>\n",
       "      <th>volume</th>\n",
       "    </tr>\n",
       "  </thead>\n",
       "  <tbody>\n",
       "    <tr>\n",
       "      <th>0</th>\n",
       "      <td>2025-04-03 12:20:00</td>\n",
       "      <td>82810.9</td>\n",
       "      <td>82862.1</td>\n",
       "      <td>82803.4</td>\n",
       "      <td>82849.9</td>\n",
       "      <td>72.958</td>\n",
       "    </tr>\n",
       "    <tr>\n",
       "      <th>1</th>\n",
       "      <td>2025-04-03 12:21:00</td>\n",
       "      <td>82800.1</td>\n",
       "      <td>82845.3</td>\n",
       "      <td>82774.2</td>\n",
       "      <td>82810.9</td>\n",
       "      <td>190.549</td>\n",
       "    </tr>\n",
       "    <tr>\n",
       "      <th>2</th>\n",
       "      <td>2025-04-03 12:22:00</td>\n",
       "      <td>82787.9</td>\n",
       "      <td>82833.0</td>\n",
       "      <td>82757.1</td>\n",
       "      <td>82800.1</td>\n",
       "      <td>115.033</td>\n",
       "    </tr>\n",
       "    <tr>\n",
       "      <th>3</th>\n",
       "      <td>2025-04-03 12:23:00</td>\n",
       "      <td>82719.9</td>\n",
       "      <td>82802.5</td>\n",
       "      <td>82715.5</td>\n",
       "      <td>82787.9</td>\n",
       "      <td>86.747</td>\n",
       "    </tr>\n",
       "    <tr>\n",
       "      <th>4</th>\n",
       "      <td>2025-04-03 12:24:00</td>\n",
       "      <td>82700.1</td>\n",
       "      <td>82736.0</td>\n",
       "      <td>82700.1</td>\n",
       "      <td>82719.9</td>\n",
       "      <td>69.310</td>\n",
       "    </tr>\n",
       "  </tbody>\n",
       "</table>\n",
       "</div>"
      ],
      "text/plain": [
       "           start_time    close     high      low     open   volume\n",
       "0 2025-04-03 12:20:00  82810.9  82862.1  82803.4  82849.9   72.958\n",
       "1 2025-04-03 12:21:00  82800.1  82845.3  82774.2  82810.9  190.549\n",
       "2 2025-04-03 12:22:00  82787.9  82833.0  82757.1  82800.1  115.033\n",
       "3 2025-04-03 12:23:00  82719.9  82802.5  82715.5  82787.9   86.747\n",
       "4 2025-04-03 12:24:00  82700.1  82736.0  82700.1  82719.9   69.310"
      ]
     },
     "execution_count": 63,
     "metadata": {},
     "output_type": "execute_result"
    }
   ],
   "source": [
    "global_df.head()"
   ]
  },
  {
   "cell_type": "code",
   "execution_count": 64,
   "id": "2500ed6b",
   "metadata": {},
   "outputs": [
    {
     "data": {
      "text/html": [
       "<div>\n",
       "<style scoped>\n",
       "    .dataframe tbody tr th:only-of-type {\n",
       "        vertical-align: middle;\n",
       "    }\n",
       "\n",
       "    .dataframe tbody tr th {\n",
       "        vertical-align: top;\n",
       "    }\n",
       "\n",
       "    .dataframe thead th {\n",
       "        text-align: right;\n",
       "    }\n",
       "</style>\n",
       "<table border=\"1\" class=\"dataframe\">\n",
       "  <thead>\n",
       "    <tr style=\"text-align: right;\">\n",
       "      <th></th>\n",
       "      <th>start_time</th>\n",
       "      <th>close</th>\n",
       "      <th>high</th>\n",
       "      <th>low</th>\n",
       "      <th>open</th>\n",
       "      <th>volume</th>\n",
       "    </tr>\n",
       "  </thead>\n",
       "  <tbody>\n",
       "    <tr>\n",
       "      <th>9995</th>\n",
       "      <td>2025-04-10 10:55:00</td>\n",
       "      <td>81642.1</td>\n",
       "      <td>81642.1</td>\n",
       "      <td>81613.9</td>\n",
       "      <td>81621.1</td>\n",
       "      <td>14.268</td>\n",
       "    </tr>\n",
       "    <tr>\n",
       "      <th>9996</th>\n",
       "      <td>2025-04-10 10:56:00</td>\n",
       "      <td>81647.7</td>\n",
       "      <td>81660.6</td>\n",
       "      <td>81620.0</td>\n",
       "      <td>81642.1</td>\n",
       "      <td>31.397</td>\n",
       "    </tr>\n",
       "    <tr>\n",
       "      <th>9997</th>\n",
       "      <td>2025-04-10 10:57:00</td>\n",
       "      <td>81714.2</td>\n",
       "      <td>81714.3</td>\n",
       "      <td>81641.9</td>\n",
       "      <td>81647.7</td>\n",
       "      <td>24.937</td>\n",
       "    </tr>\n",
       "    <tr>\n",
       "      <th>9998</th>\n",
       "      <td>2025-04-10 10:58:00</td>\n",
       "      <td>81730.7</td>\n",
       "      <td>81730.8</td>\n",
       "      <td>81700.0</td>\n",
       "      <td>81714.2</td>\n",
       "      <td>29.491</td>\n",
       "    </tr>\n",
       "    <tr>\n",
       "      <th>9999</th>\n",
       "      <td>2025-04-10 10:59:00</td>\n",
       "      <td>81720.5</td>\n",
       "      <td>81730.8</td>\n",
       "      <td>81720.5</td>\n",
       "      <td>81730.7</td>\n",
       "      <td>12.913</td>\n",
       "    </tr>\n",
       "  </tbody>\n",
       "</table>\n",
       "</div>"
      ],
      "text/plain": [
       "              start_time    close     high      low     open  volume\n",
       "9995 2025-04-10 10:55:00  81642.1  81642.1  81613.9  81621.1  14.268\n",
       "9996 2025-04-10 10:56:00  81647.7  81660.6  81620.0  81642.1  31.397\n",
       "9997 2025-04-10 10:57:00  81714.2  81714.3  81641.9  81647.7  24.937\n",
       "9998 2025-04-10 10:58:00  81730.7  81730.8  81700.0  81714.2  29.491\n",
       "9999 2025-04-10 10:59:00  81720.5  81730.8  81720.5  81730.7  12.913"
      ]
     },
     "execution_count": 64,
     "metadata": {},
     "output_type": "execute_result"
    }
   ],
   "source": [
    "global_df.tail()"
   ]
  },
  {
   "cell_type": "code",
   "execution_count": 65,
   "id": "29cfb4fc",
   "metadata": {},
   "outputs": [
    {
     "name": "stdout",
     "output_type": "stream",
     "text": [
      "              start_time    close     high      low     open   volume\n",
      "0    2025-04-03 12:20:00  82810.9  82862.1  82803.4  82849.9   72.958\n",
      "1    2025-04-03 12:21:00  82800.1  82845.3  82774.2  82810.9  190.549\n",
      "2    2025-04-03 12:22:00  82787.9  82833.0  82757.1  82800.1  115.033\n",
      "3    2025-04-03 12:23:00  82719.9  82802.5  82715.5  82787.9   86.747\n",
      "4    2025-04-03 12:24:00  82700.1  82736.0  82700.1  82719.9   69.310\n",
      "...                  ...      ...      ...      ...      ...      ...\n",
      "9995 2025-04-10 10:55:00  81642.1  81642.1  81613.9  81621.1   14.268\n",
      "9996 2025-04-10 10:56:00  81647.7  81660.6  81620.0  81642.1   31.397\n",
      "9997 2025-04-10 10:57:00  81714.2  81714.3  81641.9  81647.7   24.937\n",
      "9998 2025-04-10 10:58:00  81730.7  81730.8  81700.0  81714.2   29.491\n",
      "9999 2025-04-10 10:59:00  81720.5  81730.8  81720.5  81730.7   12.913\n",
      "\n",
      "[10000 rows x 6 columns]\n"
     ]
    }
   ],
   "source": [
    "print(global_df)"
   ]
  },
  {
   "cell_type": "code",
   "execution_count": 66,
   "id": "b3046fc9",
   "metadata": {},
   "outputs": [
    {
     "data": {
      "text/plain": [
       "start_time    datetime64[ns]\n",
       "close                float64\n",
       "high                 float64\n",
       "low                  float64\n",
       "open                 float64\n",
       "volume               float64\n",
       "dtype: object"
      ]
     },
     "execution_count": 66,
     "metadata": {},
     "output_type": "execute_result"
    }
   ],
   "source": [
    "global_df.dtypes"
   ]
  },
  {
   "cell_type": "code",
   "execution_count": 67,
   "id": "05166b02",
   "metadata": {},
   "outputs": [
    {
     "data": {
      "text/plain": [
       "start_time    0\n",
       "close         0\n",
       "high          0\n",
       "low           0\n",
       "open          0\n",
       "volume        0\n",
       "dtype: int64"
      ]
     },
     "execution_count": 67,
     "metadata": {},
     "output_type": "execute_result"
    }
   ],
   "source": [
    "global_df.isnull().sum()"
   ]
  },
  {
   "cell_type": "markdown",
   "id": "9aa900c5",
   "metadata": {},
   "source": [
    "Percentage of missing value"
   ]
  },
  {
   "cell_type": "code",
   "execution_count": 68,
   "id": "d4209bcf",
   "metadata": {},
   "outputs": [
    {
     "data": {
      "text/plain": [
       "start_time    0.0\n",
       "close         0.0\n",
       "high          0.0\n",
       "low           0.0\n",
       "open          0.0\n",
       "volume        0.0\n",
       "dtype: float64"
      ]
     },
     "execution_count": 68,
     "metadata": {},
     "output_type": "execute_result"
    }
   ],
   "source": [
    "(global_df.isnull().sum()/(len(global_df)))*100"
   ]
  },
  {
   "cell_type": "markdown",
   "id": "740ed8cd",
   "metadata": {},
   "source": [
    "Check duplicate value"
   ]
  },
  {
   "cell_type": "code",
   "execution_count": 69,
   "id": "38544418",
   "metadata": {},
   "outputs": [
    {
     "data": {
      "text/plain": [
       "start_time    10000\n",
       "close         10000\n",
       "high          10000\n",
       "low           10000\n",
       "open          10000\n",
       "volume        10000\n",
       "dtype: int64"
      ]
     },
     "execution_count": 69,
     "metadata": {},
     "output_type": "execute_result"
    }
   ],
   "source": [
    "global_df.count()"
   ]
  },
  {
   "cell_type": "code",
   "execution_count": 70,
   "id": "11e56e6c",
   "metadata": {},
   "outputs": [
    {
     "data": {
      "text/plain": [
       "start_time    10000\n",
       "close          8883\n",
       "high           8515\n",
       "low            8469\n",
       "open           8883\n",
       "volume         9768\n",
       "dtype: int64"
      ]
     },
     "execution_count": 70,
     "metadata": {},
     "output_type": "execute_result"
    }
   ],
   "source": [
    "global_df.nunique()"
   ]
  },
  {
   "cell_type": "code",
   "execution_count": 71,
   "id": "9fe46654",
   "metadata": {},
   "outputs": [
    {
     "name": "stdout",
     "output_type": "stream",
     "text": [
      "Empty DataFrame\n",
      "Columns: [start_time, close, high, low, open, volume]\n",
      "Index: []\n"
     ]
    }
   ],
   "source": [
    "duplicate_rows = global_df.duplicated()\n",
    "\n",
    "# Display rows with duplicates\n",
    "duplicate_rows_df = global_df[duplicate_rows]\n",
    "print(duplicate_rows_df)"
   ]
  },
  {
   "cell_type": "code",
   "execution_count": 72,
   "id": "e58769f0",
   "metadata": {},
   "outputs": [
    {
     "data": {
      "text/html": [
       "<div>\n",
       "<style scoped>\n",
       "    .dataframe tbody tr th:only-of-type {\n",
       "        vertical-align: middle;\n",
       "    }\n",
       "\n",
       "    .dataframe tbody tr th {\n",
       "        vertical-align: top;\n",
       "    }\n",
       "\n",
       "    .dataframe thead th {\n",
       "        text-align: right;\n",
       "    }\n",
       "</style>\n",
       "<table border=\"1\" class=\"dataframe\">\n",
       "  <thead>\n",
       "    <tr style=\"text-align: right;\">\n",
       "      <th></th>\n",
       "      <th>start_time</th>\n",
       "      <th>close</th>\n",
       "      <th>high</th>\n",
       "      <th>low</th>\n",
       "      <th>open</th>\n",
       "      <th>volume</th>\n",
       "    </tr>\n",
       "  </thead>\n",
       "  <tbody>\n",
       "    <tr>\n",
       "      <th>0</th>\n",
       "      <td>2025-04-03 12:20:00</td>\n",
       "      <td>82810.9</td>\n",
       "      <td>82862.1</td>\n",
       "      <td>82803.4</td>\n",
       "      <td>82849.9</td>\n",
       "      <td>72.958</td>\n",
       "    </tr>\n",
       "    <tr>\n",
       "      <th>1</th>\n",
       "      <td>2025-04-03 12:21:00</td>\n",
       "      <td>82800.1</td>\n",
       "      <td>82845.3</td>\n",
       "      <td>82774.2</td>\n",
       "      <td>82810.9</td>\n",
       "      <td>190.549</td>\n",
       "    </tr>\n",
       "    <tr>\n",
       "      <th>2</th>\n",
       "      <td>2025-04-03 12:22:00</td>\n",
       "      <td>82787.9</td>\n",
       "      <td>82833.0</td>\n",
       "      <td>82757.1</td>\n",
       "      <td>82800.1</td>\n",
       "      <td>115.033</td>\n",
       "    </tr>\n",
       "    <tr>\n",
       "      <th>3</th>\n",
       "      <td>2025-04-03 12:23:00</td>\n",
       "      <td>82719.9</td>\n",
       "      <td>82802.5</td>\n",
       "      <td>82715.5</td>\n",
       "      <td>82787.9</td>\n",
       "      <td>86.747</td>\n",
       "    </tr>\n",
       "    <tr>\n",
       "      <th>4</th>\n",
       "      <td>2025-04-03 12:24:00</td>\n",
       "      <td>82700.1</td>\n",
       "      <td>82736.0</td>\n",
       "      <td>82700.1</td>\n",
       "      <td>82719.9</td>\n",
       "      <td>69.310</td>\n",
       "    </tr>\n",
       "  </tbody>\n",
       "</table>\n",
       "</div>"
      ],
      "text/plain": [
       "           start_time    close     high      low     open   volume\n",
       "0 2025-04-03 12:20:00  82810.9  82862.1  82803.4  82849.9   72.958\n",
       "1 2025-04-03 12:21:00  82800.1  82845.3  82774.2  82810.9  190.549\n",
       "2 2025-04-03 12:22:00  82787.9  82833.0  82757.1  82800.1  115.033\n",
       "3 2025-04-03 12:23:00  82719.9  82802.5  82715.5  82787.9   86.747\n",
       "4 2025-04-03 12:24:00  82700.1  82736.0  82700.1  82719.9   69.310"
      ]
     },
     "execution_count": 72,
     "metadata": {},
     "output_type": "execute_result"
    }
   ],
   "source": [
    "global_df.head()"
   ]
  },
  {
   "cell_type": "markdown",
   "id": "f2fc4329",
   "metadata": {},
   "source": [
    "Exploratory Data Analysis"
   ]
  },
  {
   "cell_type": "code",
   "execution_count": 73,
   "id": "c4fdafbb",
   "metadata": {},
   "outputs": [
    {
     "data": {
      "image/png": "[encoded data removed]",
      "text/plain": [
       "<Figure size 1000x500 with 1 Axes>"
      ]
     },
     "metadata": {},
     "output_type": "display_data"
    }
   ],
   "source": [
    "from matplotlib.dates import DateFormatter\n",
    "\n",
    "# Convert your time column\n",
    "global_df['start_time'] = pd.to_datetime(global_df['start_time'])\n",
    "\n",
    "# Get last 100 rows\n",
    "df_last = global_df.tail(100)\n",
    "\n",
    "# Plot\n",
    "fig, ax = plt.subplots(figsize=(10, 5))\n",
    "ax.plot(df_last['start_time'], df_last['close'], label='Close Price')\n",
    "\n",
    "# Set custom date format\n",
    "date_fmt = DateFormatter('%d/%m/%Y %H:%M')  # Example: 10/04/2025 07:45\n",
    "ax.xaxis.set_major_formatter(date_fmt)\n",
    "\n",
    "# Labeling\n",
    "ax.set_title('Close Price (Last 100 Points)')\n",
    "ax.set_xlabel('Time')\n",
    "ax.set_ylabel('Price')\n",
    "ax.legend()\n",
    "plt.xticks(rotation=45)\n",
    "plt.tight_layout()\n",
    "plt.show()"
   ]
  },
  {
   "cell_type": "markdown",
   "id": "5cc1e3e4",
   "metadata": {},
   "source": [
    "Uptrend (approx. 09:25–09:45): The price shows a gradual and consistent increase, suggesting positive market sentiment or buying pressure.\n",
    "\n",
    "Volatility Phase (approx. 09:45–10:00): Sharp up and down fluctuations in close price. This often suggests indecision, possible news events, or liquidity imbalances.\n",
    "\n",
    "Downtrend (approx. 10:00–10:30): Clear and sharp drop in price.\n",
    "May signal profit-taking, bearish sentiment, or reversal of earlier gains.\n",
    "\n",
    "Mild Recovery (approx. 10:30–11:00): After hitting a low, price slightly rises again. Indicates attempt to regain confidence, but still uncertain."
   ]
  }
 ],
 "metadata": {
  "kernelspec": {
   "display_name": "streamlitenv",
   "language": "python",
   "name": "python3"
  },
  "language_info": {
   "codemirror_mode": {
    "name": "ipython",
    "version": 3
   },
   "file_extension": ".py",
   "mimetype": "text/x-python",
   "name": "python",
   "nbconvert_exporter": "python",
   "pygments_lexer": "ipython3",
   "version": "3.11.9"
  }
 },
 "nbformat": 4,
 "nbformat_minor": 5
}
