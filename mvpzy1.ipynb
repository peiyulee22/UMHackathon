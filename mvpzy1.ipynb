{
 "cells": [
  {
   "cell_type": "markdown",
   "id": "545548cc",
   "metadata": {},
   "source": [
    "Load Data Check Data whether is null or not"
   ]
  },
  {
   "cell_type": "code",
   "execution_count": 2,
   "id": "ed922d7a",
   "metadata": {},
   "outputs": [
    {
     "name": "stdout",
     "output_type": "stream",
     "text": [
      "Requirement already satisfied: cybotrade_datasource in c:\\users\\zhiyu\\anaconda3\\lib\\site-packages (0.1.1)\n",
      "Requirement already satisfied: python-dotenv in c:\\users\\zhiyu\\anaconda3\\lib\\site-packages (0.21.0)\n",
      "['__builtins__', '__cached__', '__doc__', '__file__', '__loader__', '__name__', '__package__', '__path__', '__spec__', 'cybotrade_datasource', 'query', 'query_paginated', 'stream']\n",
      "DataFrame 1 (bybit-linear|candle?symbol=BTCUSDT&interval=1m)\n",
      "<bound method NDFrame.head of          start_time    close     high      low     open   volume\n",
      "0     1743676620000  83338.9  83347.5  83263.5  83280.3   25.920\n",
      "1     1743676680000  83247.7  83343.4  83247.6  83338.9   22.916\n",
      "2     1743676740000  83241.8  83269.1  83232.1  83247.7   37.500\n",
      "3     1743676800000  83161.9  83259.1  83128.7  83241.8  122.577\n",
      "4     1743676860000  83140.0  83219.4  83128.1  83161.9   83.796\n",
      "...             ...      ...      ...      ...      ...      ...\n",
      "9995  1744276320000  81397.1  81404.5  81347.7  81347.8   40.110\n",
      "9996  1744276380000  81448.0  81449.9  81397.0  81397.1   59.519\n",
      "9997  1744276440000  81458.0  81458.0  81430.0  81448.0   53.089\n",
      "9998  1744276500000  81484.7  81503.4  81457.9  81458.0   38.530\n",
      "9999  1744276560000  81550.4  81550.5  81483.2  81484.7   42.394\n",
      "\n",
      "[10000 rows x 6 columns]>\n",
      "start_time    0\n",
      "close         0\n",
      "high          0\n",
      "low           0\n",
      "open          0\n",
      "volume        0\n",
      "dtype: int64\n"
     ]
    }
   ],
   "source": [
    "!pip install cybotrade_datasource\n",
    "!pip install python-dotenv\n",
    "\n",
    "import pandas as pd\n",
    "import numpy as np\n",
    "import asyncio\n",
    "import cybotrade_datasource\n",
    "from datetime import datetime, timezone\n",
    "from dotenv import load_dotenv\n",
    "import os\n",
    "import matplotlib.pyplot as plt\n",
    "import seaborn as sns\n",
    "import matplotlib.dates as mdates\n",
    "\n",
    "\n",
    "import warnings as wr\n",
    "wr.filterwarnings('ignore')\n",
    "\n",
    "print(dir(cybotrade_datasource))\n",
    "\n",
    "load_dotenv()\n",
    "\n",
    "API_KEY = os.getenv('CYBOTRADE_API_KEY')\n",
    "\n",
    "'''\n",
    "async def main():\n",
    "    data = await cybotrade_datasource.query_paginated(\n",
    "        api_key=API_KEY, \n",
    "        topic='cryptoquant|btc/inter-entity-flows/miner-to-miner?from_miner=f2pool&to_miner=all_miner&window=hour', \n",
    "        start_time=datetime(year=2024, month=1, day=1, tzinfo=timezone.utc),\n",
    "        end_time=datetime(year=2025, month=1, day=1, tzinfo=timezone.utc)\n",
    "    )\n",
    "    df = pd.DataFrame(data)\n",
    "    print(df)\n",
    "    \n",
    "\n",
    "await main()\n",
    "'''\n",
    "\n",
    "'''\n",
    "async def main():\n",
    "    stream = await cybotrade_datasource.stream(\n",
    "        api_key=API_KEY,\n",
    "        topics=[\n",
    "            'cryptoquant|btc/inter-entity-flows/miner-to-miner?from_miner=f2pool&to_miner=all_miner&window=hour',\n",
    "            'cryptoquant|btc/market-data/liquidations?exchange=deribit&window=min',\n",
    "        ],\n",
    "    )\n",
    "    async for msg in stream:\n",
    "        print(msg)\n",
    "    \n",
    "\n",
    "await main()\n",
    "'''\n",
    "\n",
    "global_df = None \n",
    "\n",
    "async def get_data(topic):\n",
    "    data = await cybotrade_datasource.query_paginated(\n",
    "        api_key=API_KEY, \n",
    "        topic=topic, \n",
    "        limit=10000\n",
    "    )\n",
    "    return pd.DataFrame(data)\n",
    "\n",
    "\n",
    "async def main():\n",
    "    global global_df\n",
    "\n",
    "    topics = [\n",
    "        \"bybit-linear|candle?symbol=BTCUSDT&interval=1m\",\n",
    "    ]\n",
    "\n",
    "#topic\n",
    "#\"cryptoquant|btc/market-data/open-interest?exchange=bybit&window=min\",\n",
    "#bybit-linear|candle?interval=1m&symbol=BTCUSDT\n",
    "#\"cryptoquant|btc/market-data/coinbase-premium-index?window=hour\",\n",
    "#\"cryptoquant|btc/exchange-flows/outflow?exchange=coinbase_advanced&window=hour\",\n",
    "#\"glassnode|market/deltacap_usd?a=BTC&i=10m\",\n",
    "\n",
    "    tasks = [get_data(topic) for topic in topics]\n",
    "    dataframes = await asyncio.gather(*tasks)\n",
    "\n",
    "    for i, df in enumerate(dataframes):\n",
    "        print(f\"DataFrame {i+1} ({topics[i]})\")\n",
    "        print(df.head)\n",
    "        print(df.isnull().sum())\n",
    "        global_df = df\n",
    "\n",
    "await main()\n"
   ]
  },
  {
   "cell_type": "markdown",
   "id": "bf795165",
   "metadata": {},
   "source": [
    "Display first five column of the dataframe"
   ]
  },
  {
   "cell_type": "code",
   "execution_count": 3,
   "id": "a78ed0d7",
   "metadata": {},
   "outputs": [
    {
     "name": "stdout",
     "output_type": "stream",
     "text": [
      "         start_time    close     high      low     open   volume\n",
      "0     1743676620000  83338.9  83347.5  83263.5  83280.3   25.920\n",
      "1     1743676680000  83247.7  83343.4  83247.6  83338.9   22.916\n",
      "2     1743676740000  83241.8  83269.1  83232.1  83247.7   37.500\n",
      "3     1743676800000  83161.9  83259.1  83128.7  83241.8  122.577\n",
      "4     1743676860000  83140.0  83219.4  83128.1  83161.9   83.796\n",
      "...             ...      ...      ...      ...      ...      ...\n",
      "9995  1744276320000  81397.1  81404.5  81347.7  81347.8   40.110\n",
      "9996  1744276380000  81448.0  81449.9  81397.0  81397.1   59.519\n",
      "9997  1744276440000  81458.0  81458.0  81430.0  81448.0   53.089\n",
      "9998  1744276500000  81484.7  81503.4  81457.9  81458.0   38.530\n",
      "9999  1744276560000  81550.4  81550.5  81483.2  81484.7   42.394\n",
      "\n",
      "[10000 rows x 6 columns]\n"
     ]
    }
   ],
   "source": [
    "print(global_df)"
   ]
  },
  {
   "cell_type": "markdown",
   "id": "828155df",
   "metadata": {},
   "source": [
    "Analyze Data (first five and last five)"
   ]
  },
  {
   "cell_type": "code",
   "execution_count": 4,
   "id": "86afdd15",
   "metadata": {},
   "outputs": [
    {
     "data": {
      "text/html": [
       "<div>\n",
       "<style scoped>\n",
       "    .dataframe tbody tr th:only-of-type {\n",
       "        vertical-align: middle;\n",
       "    }\n",
       "\n",
       "    .dataframe tbody tr th {\n",
       "        vertical-align: top;\n",
       "    }\n",
       "\n",
       "    .dataframe thead th {\n",
       "        text-align: right;\n",
       "    }\n",
       "</style>\n",
       "<table border=\"1\" class=\"dataframe\">\n",
       "  <thead>\n",
       "    <tr style=\"text-align: right;\">\n",
       "      <th></th>\n",
       "      <th>start_time</th>\n",
       "      <th>close</th>\n",
       "      <th>high</th>\n",
       "      <th>low</th>\n",
       "      <th>open</th>\n",
       "      <th>volume</th>\n",
       "    </tr>\n",
       "  </thead>\n",
       "  <tbody>\n",
       "    <tr>\n",
       "      <th>0</th>\n",
       "      <td>1743676620000</td>\n",
       "      <td>83338.9</td>\n",
       "      <td>83347.5</td>\n",
       "      <td>83263.5</td>\n",
       "      <td>83280.3</td>\n",
       "      <td>25.920</td>\n",
       "    </tr>\n",
       "    <tr>\n",
       "      <th>1</th>\n",
       "      <td>1743676680000</td>\n",
       "      <td>83247.7</td>\n",
       "      <td>83343.4</td>\n",
       "      <td>83247.6</td>\n",
       "      <td>83338.9</td>\n",
       "      <td>22.916</td>\n",
       "    </tr>\n",
       "    <tr>\n",
       "      <th>2</th>\n",
       "      <td>1743676740000</td>\n",
       "      <td>83241.8</td>\n",
       "      <td>83269.1</td>\n",
       "      <td>83232.1</td>\n",
       "      <td>83247.7</td>\n",
       "      <td>37.500</td>\n",
       "    </tr>\n",
       "    <tr>\n",
       "      <th>3</th>\n",
       "      <td>1743676800000</td>\n",
       "      <td>83161.9</td>\n",
       "      <td>83259.1</td>\n",
       "      <td>83128.7</td>\n",
       "      <td>83241.8</td>\n",
       "      <td>122.577</td>\n",
       "    </tr>\n",
       "    <tr>\n",
       "      <th>4</th>\n",
       "      <td>1743676860000</td>\n",
       "      <td>83140.0</td>\n",
       "      <td>83219.4</td>\n",
       "      <td>83128.1</td>\n",
       "      <td>83161.9</td>\n",
       "      <td>83.796</td>\n",
       "    </tr>\n",
       "  </tbody>\n",
       "</table>\n",
       "</div>"
      ],
      "text/plain": [
       "      start_time    close     high      low     open   volume\n",
       "0  1743676620000  83338.9  83347.5  83263.5  83280.3   25.920\n",
       "1  1743676680000  83247.7  83343.4  83247.6  83338.9   22.916\n",
       "2  1743676740000  83241.8  83269.1  83232.1  83247.7   37.500\n",
       "3  1743676800000  83161.9  83259.1  83128.7  83241.8  122.577\n",
       "4  1743676860000  83140.0  83219.4  83128.1  83161.9   83.796"
      ]
     },
     "execution_count": 4,
     "metadata": {},
     "output_type": "execute_result"
    }
   ],
   "source": [
    "global_df.head()"
   ]
  },
  {
   "cell_type": "code",
   "execution_count": 5,
   "id": "78d045fd",
   "metadata": {},
   "outputs": [
    {
     "data": {
      "text/html": [
       "<div>\n",
       "<style scoped>\n",
       "    .dataframe tbody tr th:only-of-type {\n",
       "        vertical-align: middle;\n",
       "    }\n",
       "\n",
       "    .dataframe tbody tr th {\n",
       "        vertical-align: top;\n",
       "    }\n",
       "\n",
       "    .dataframe thead th {\n",
       "        text-align: right;\n",
       "    }\n",
       "</style>\n",
       "<table border=\"1\" class=\"dataframe\">\n",
       "  <thead>\n",
       "    <tr style=\"text-align: right;\">\n",
       "      <th></th>\n",
       "      <th>start_time</th>\n",
       "      <th>close</th>\n",
       "      <th>high</th>\n",
       "      <th>low</th>\n",
       "      <th>open</th>\n",
       "      <th>volume</th>\n",
       "    </tr>\n",
       "  </thead>\n",
       "  <tbody>\n",
       "    <tr>\n",
       "      <th>9995</th>\n",
       "      <td>1744276320000</td>\n",
       "      <td>81397.1</td>\n",
       "      <td>81404.5</td>\n",
       "      <td>81347.7</td>\n",
       "      <td>81347.8</td>\n",
       "      <td>40.110</td>\n",
       "    </tr>\n",
       "    <tr>\n",
       "      <th>9996</th>\n",
       "      <td>1744276380000</td>\n",
       "      <td>81448.0</td>\n",
       "      <td>81449.9</td>\n",
       "      <td>81397.0</td>\n",
       "      <td>81397.1</td>\n",
       "      <td>59.519</td>\n",
       "    </tr>\n",
       "    <tr>\n",
       "      <th>9997</th>\n",
       "      <td>1744276440000</td>\n",
       "      <td>81458.0</td>\n",
       "      <td>81458.0</td>\n",
       "      <td>81430.0</td>\n",
       "      <td>81448.0</td>\n",
       "      <td>53.089</td>\n",
       "    </tr>\n",
       "    <tr>\n",
       "      <th>9998</th>\n",
       "      <td>1744276500000</td>\n",
       "      <td>81484.7</td>\n",
       "      <td>81503.4</td>\n",
       "      <td>81457.9</td>\n",
       "      <td>81458.0</td>\n",
       "      <td>38.530</td>\n",
       "    </tr>\n",
       "    <tr>\n",
       "      <th>9999</th>\n",
       "      <td>1744276560000</td>\n",
       "      <td>81550.4</td>\n",
       "      <td>81550.5</td>\n",
       "      <td>81483.2</td>\n",
       "      <td>81484.7</td>\n",
       "      <td>42.394</td>\n",
       "    </tr>\n",
       "  </tbody>\n",
       "</table>\n",
       "</div>"
      ],
      "text/plain": [
       "         start_time    close     high      low     open  volume\n",
       "9995  1744276320000  81397.1  81404.5  81347.7  81347.8  40.110\n",
       "9996  1744276380000  81448.0  81449.9  81397.0  81397.1  59.519\n",
       "9997  1744276440000  81458.0  81458.0  81430.0  81448.0  53.089\n",
       "9998  1744276500000  81484.7  81503.4  81457.9  81458.0  38.530\n",
       "9999  1744276560000  81550.4  81550.5  81483.2  81484.7  42.394"
      ]
     },
     "execution_count": 5,
     "metadata": {},
     "output_type": "execute_result"
    }
   ],
   "source": [
    "global_df.tail()"
   ]
  },
  {
   "cell_type": "code",
   "execution_count": 6,
   "id": "8595ee93",
   "metadata": {},
   "outputs": [
    {
     "data": {
      "text/plain": [
       "(10000, 6)"
      ]
     },
     "execution_count": 6,
     "metadata": {},
     "output_type": "execute_result"
    }
   ],
   "source": [
    "global_df.shape"
   ]
  },
  {
   "cell_type": "code",
   "execution_count": 7,
   "id": "81969534",
   "metadata": {},
   "outputs": [
    {
     "name": "stdout",
     "output_type": "stream",
     "text": [
      "10000\n"
     ]
    }
   ],
   "source": [
    "num_rows = len(global_df)\n",
    "print(num_rows)"
   ]
  },
  {
   "cell_type": "markdown",
   "id": "d1c7a0e6",
   "metadata": {},
   "source": [
    "We had 10000 rows in this dataset (latest)"
   ]
  },
  {
   "cell_type": "code",
   "execution_count": 8,
   "id": "6fd811af",
   "metadata": {},
   "outputs": [
    {
     "name": "stdout",
     "output_type": "stream",
     "text": [
      "Categorical Variables:\n",
      "Index([], dtype='object')\n",
      "Numerical Variables:\n",
      "['start_time', 'close', 'high', 'low', 'open', 'volume']\n"
     ]
    }
   ],
   "source": [
    "cat_cols = global_df.select_dtypes(include=['object']).columns\n",
    "num_cols = global_df.select_dtypes(include=np.number).columns.tolist()\n",
    "print(\"Categorical Variables:\")\n",
    "print(cat_cols)\n",
    "print(\"Numerical Variables:\")\n",
    "print(num_cols)"
   ]
  },
  {
   "cell_type": "code",
   "execution_count": 9,
   "id": "200c03ac",
   "metadata": {},
   "outputs": [
    {
     "name": "stdout",
     "output_type": "stream",
     "text": [
      "<class 'pandas.core.frame.DataFrame'>\n",
      "RangeIndex: 10000 entries, 0 to 9999\n",
      "Data columns (total 6 columns):\n",
      " #   Column      Non-Null Count  Dtype  \n",
      "---  ------      --------------  -----  \n",
      " 0   start_time  10000 non-null  int64  \n",
      " 1   close       10000 non-null  float64\n",
      " 2   high        10000 non-null  float64\n",
      " 3   low         10000 non-null  float64\n",
      " 4   open        10000 non-null  float64\n",
      " 5   volume      10000 non-null  float64\n",
      "dtypes: float64(5), int64(1)\n",
      "memory usage: 468.9 KB\n"
     ]
    }
   ],
   "source": [
    "global_df.info()"
   ]
  },
  {
   "cell_type": "markdown",
   "id": "66166020",
   "metadata": {},
   "source": [
    "Obtain a statistical summary of the dataframe using describe"
   ]
  },
  {
   "cell_type": "code",
   "execution_count": 10,
   "id": "cf746f02",
   "metadata": {},
   "outputs": [
    {
     "data": {
      "text/html": [
       "<div>\n",
       "<style scoped>\n",
       "    .dataframe tbody tr th:only-of-type {\n",
       "        vertical-align: middle;\n",
       "    }\n",
       "\n",
       "    .dataframe tbody tr th {\n",
       "        vertical-align: top;\n",
       "    }\n",
       "\n",
       "    .dataframe thead th {\n",
       "        text-align: right;\n",
       "    }\n",
       "</style>\n",
       "<table border=\"1\" class=\"dataframe\">\n",
       "  <thead>\n",
       "    <tr style=\"text-align: right;\">\n",
       "      <th></th>\n",
       "      <th>start_time</th>\n",
       "      <th>close</th>\n",
       "      <th>high</th>\n",
       "      <th>low</th>\n",
       "      <th>open</th>\n",
       "      <th>volume</th>\n",
       "    </tr>\n",
       "  </thead>\n",
       "  <tbody>\n",
       "    <tr>\n",
       "      <th>count</th>\n",
       "      <td>1.000000e+04</td>\n",
       "      <td>10000.000000</td>\n",
       "      <td>10000.000000</td>\n",
       "      <td>10000.000000</td>\n",
       "      <td>10000.00000</td>\n",
       "      <td>10000.000000</td>\n",
       "    </tr>\n",
       "    <tr>\n",
       "      <th>mean</th>\n",
       "      <td>1.743977e+12</td>\n",
       "      <td>80786.265890</td>\n",
       "      <td>80835.023880</td>\n",
       "      <td>80739.047520</td>\n",
       "      <td>80786.43888</td>\n",
       "      <td>117.276068</td>\n",
       "    </tr>\n",
       "    <tr>\n",
       "      <th>std</th>\n",
       "      <td>1.732137e+08</td>\n",
       "      <td>2677.674041</td>\n",
       "      <td>2660.416004</td>\n",
       "      <td>2694.732636</td>\n",
       "      <td>2677.77929</td>\n",
       "      <td>205.675561</td>\n",
       "    </tr>\n",
       "    <tr>\n",
       "      <th>min</th>\n",
       "      <td>1.743677e+12</td>\n",
       "      <td>74584.200000</td>\n",
       "      <td>74702.500000</td>\n",
       "      <td>74456.200000</td>\n",
       "      <td>74584.20000</td>\n",
       "      <td>0.946000</td>\n",
       "    </tr>\n",
       "    <tr>\n",
       "      <th>25%</th>\n",
       "      <td>1.743827e+12</td>\n",
       "      <td>78393.050000</td>\n",
       "      <td>78466.475000</td>\n",
       "      <td>78304.550000</td>\n",
       "      <td>78393.05000</td>\n",
       "      <td>25.766500</td>\n",
       "    </tr>\n",
       "    <tr>\n",
       "      <th>50%</th>\n",
       "      <td>1.743977e+12</td>\n",
       "      <td>82001.750000</td>\n",
       "      <td>82051.300000</td>\n",
       "      <td>81960.850000</td>\n",
       "      <td>82002.50000</td>\n",
       "      <td>58.975000</td>\n",
       "    </tr>\n",
       "    <tr>\n",
       "      <th>75%</th>\n",
       "      <td>1.744127e+12</td>\n",
       "      <td>83037.500000</td>\n",
       "      <td>83065.750000</td>\n",
       "      <td>83012.000000</td>\n",
       "      <td>83037.82500</td>\n",
       "      <td>130.544500</td>\n",
       "    </tr>\n",
       "    <tr>\n",
       "      <th>max</th>\n",
       "      <td>1.744277e+12</td>\n",
       "      <td>84670.200000</td>\n",
       "      <td>84736.000000</td>\n",
       "      <td>84656.100000</td>\n",
       "      <td>84670.20000</td>\n",
       "      <td>4595.508000</td>\n",
       "    </tr>\n",
       "  </tbody>\n",
       "</table>\n",
       "</div>"
      ],
      "text/plain": [
       "         start_time         close          high           low         open  \\\n",
       "count  1.000000e+04  10000.000000  10000.000000  10000.000000  10000.00000   \n",
       "mean   1.743977e+12  80786.265890  80835.023880  80739.047520  80786.43888   \n",
       "std    1.732137e+08   2677.674041   2660.416004   2694.732636   2677.77929   \n",
       "min    1.743677e+12  74584.200000  74702.500000  74456.200000  74584.20000   \n",
       "25%    1.743827e+12  78393.050000  78466.475000  78304.550000  78393.05000   \n",
       "50%    1.743977e+12  82001.750000  82051.300000  81960.850000  82002.50000   \n",
       "75%    1.744127e+12  83037.500000  83065.750000  83012.000000  83037.82500   \n",
       "max    1.744277e+12  84670.200000  84736.000000  84656.100000  84670.20000   \n",
       "\n",
       "             volume  \n",
       "count  10000.000000  \n",
       "mean     117.276068  \n",
       "std      205.675561  \n",
       "min        0.946000  \n",
       "25%       25.766500  \n",
       "50%       58.975000  \n",
       "75%      130.544500  \n",
       "max     4595.508000  "
      ]
     },
     "execution_count": 10,
     "metadata": {},
     "output_type": "execute_result"
    }
   ],
   "source": [
    "global_df.describe()"
   ]
  },
  {
   "cell_type": "code",
   "execution_count": 11,
   "id": "86fd0ca9",
   "metadata": {},
   "outputs": [
    {
     "data": {
      "text/html": [
       "<div>\n",
       "<style scoped>\n",
       "    .dataframe tbody tr th:only-of-type {\n",
       "        vertical-align: middle;\n",
       "    }\n",
       "\n",
       "    .dataframe tbody tr th {\n",
       "        vertical-align: top;\n",
       "    }\n",
       "\n",
       "    .dataframe thead th {\n",
       "        text-align: right;\n",
       "    }\n",
       "</style>\n",
       "<table border=\"1\" class=\"dataframe\">\n",
       "  <thead>\n",
       "    <tr style=\"text-align: right;\">\n",
       "      <th></th>\n",
       "      <th>start_time</th>\n",
       "      <th>close</th>\n",
       "      <th>high</th>\n",
       "      <th>low</th>\n",
       "      <th>open</th>\n",
       "      <th>volume</th>\n",
       "    </tr>\n",
       "  </thead>\n",
       "  <tbody>\n",
       "    <tr>\n",
       "      <th>count</th>\n",
       "      <td>1.000000e+04</td>\n",
       "      <td>10000.000000</td>\n",
       "      <td>10000.000000</td>\n",
       "      <td>10000.000000</td>\n",
       "      <td>10000.00000</td>\n",
       "      <td>10000.000000</td>\n",
       "    </tr>\n",
       "    <tr>\n",
       "      <th>mean</th>\n",
       "      <td>1.743977e+12</td>\n",
       "      <td>80786.265890</td>\n",
       "      <td>80835.023880</td>\n",
       "      <td>80739.047520</td>\n",
       "      <td>80786.43888</td>\n",
       "      <td>117.276068</td>\n",
       "    </tr>\n",
       "    <tr>\n",
       "      <th>std</th>\n",
       "      <td>1.732137e+08</td>\n",
       "      <td>2677.674041</td>\n",
       "      <td>2660.416004</td>\n",
       "      <td>2694.732636</td>\n",
       "      <td>2677.77929</td>\n",
       "      <td>205.675561</td>\n",
       "    </tr>\n",
       "    <tr>\n",
       "      <th>min</th>\n",
       "      <td>1.743677e+12</td>\n",
       "      <td>74584.200000</td>\n",
       "      <td>74702.500000</td>\n",
       "      <td>74456.200000</td>\n",
       "      <td>74584.20000</td>\n",
       "      <td>0.946000</td>\n",
       "    </tr>\n",
       "    <tr>\n",
       "      <th>25%</th>\n",
       "      <td>1.743827e+12</td>\n",
       "      <td>78393.050000</td>\n",
       "      <td>78466.475000</td>\n",
       "      <td>78304.550000</td>\n",
       "      <td>78393.05000</td>\n",
       "      <td>25.766500</td>\n",
       "    </tr>\n",
       "    <tr>\n",
       "      <th>50%</th>\n",
       "      <td>1.743977e+12</td>\n",
       "      <td>82001.750000</td>\n",
       "      <td>82051.300000</td>\n",
       "      <td>81960.850000</td>\n",
       "      <td>82002.50000</td>\n",
       "      <td>58.975000</td>\n",
       "    </tr>\n",
       "    <tr>\n",
       "      <th>75%</th>\n",
       "      <td>1.744127e+12</td>\n",
       "      <td>83037.500000</td>\n",
       "      <td>83065.750000</td>\n",
       "      <td>83012.000000</td>\n",
       "      <td>83037.82500</td>\n",
       "      <td>130.544500</td>\n",
       "    </tr>\n",
       "    <tr>\n",
       "      <th>max</th>\n",
       "      <td>1.744277e+12</td>\n",
       "      <td>84670.200000</td>\n",
       "      <td>84736.000000</td>\n",
       "      <td>84656.100000</td>\n",
       "      <td>84670.20000</td>\n",
       "      <td>4595.508000</td>\n",
       "    </tr>\n",
       "  </tbody>\n",
       "</table>\n",
       "</div>"
      ],
      "text/plain": [
       "         start_time         close          high           low         open  \\\n",
       "count  1.000000e+04  10000.000000  10000.000000  10000.000000  10000.00000   \n",
       "mean   1.743977e+12  80786.265890  80835.023880  80739.047520  80786.43888   \n",
       "std    1.732137e+08   2677.674041   2660.416004   2694.732636   2677.77929   \n",
       "min    1.743677e+12  74584.200000  74702.500000  74456.200000  74584.20000   \n",
       "25%    1.743827e+12  78393.050000  78466.475000  78304.550000  78393.05000   \n",
       "50%    1.743977e+12  82001.750000  82051.300000  81960.850000  82002.50000   \n",
       "75%    1.744127e+12  83037.500000  83065.750000  83012.000000  83037.82500   \n",
       "max    1.744277e+12  84670.200000  84736.000000  84656.100000  84670.20000   \n",
       "\n",
       "             volume  \n",
       "count  10000.000000  \n",
       "mean     117.276068  \n",
       "std      205.675561  \n",
       "min        0.946000  \n",
       "25%       25.766500  \n",
       "50%       58.975000  \n",
       "75%      130.544500  \n",
       "max     4595.508000  "
      ]
     },
     "execution_count": 11,
     "metadata": {},
     "output_type": "execute_result"
    }
   ],
   "source": [
    "global_df.describe(include='all')"
   ]
  },
  {
   "cell_type": "code",
   "execution_count": 12,
   "id": "ef6aff3c",
   "metadata": {},
   "outputs": [
    {
     "name": "stdout",
     "output_type": "stream",
     "text": [
      "Rows:  10000 Columns:  6\n"
     ]
    }
   ],
   "source": [
    "num_rows = global_df.shape[0]\n",
    "num_cols = global_df.shape[1]\n",
    "print(\"Rows: \", num_rows, \"Columns: \", num_cols)\n"
   ]
  },
  {
   "cell_type": "markdown",
   "id": "9c58da22",
   "metadata": {},
   "source": [
    "Show columns's data types using the property df.dtypes"
   ]
  },
  {
   "cell_type": "code",
   "execution_count": 13,
   "id": "b045513a",
   "metadata": {},
   "outputs": [
    {
     "data": {
      "text/plain": [
       "start_time      int64\n",
       "close         float64\n",
       "high          float64\n",
       "low           float64\n",
       "open          float64\n",
       "volume        float64\n",
       "dtype: object"
      ]
     },
     "execution_count": 13,
     "metadata": {},
     "output_type": "execute_result"
    }
   ],
   "source": [
    "global_df.dtypes"
   ]
  },
  {
   "cell_type": "code",
   "execution_count": 14,
   "id": "5f7f54e8",
   "metadata": {},
   "outputs": [
    {
     "name": "stdout",
     "output_type": "stream",
     "text": [
      "         start_time         close          high           low         open  \\\n",
      "count  1.000000e+04  10000.000000  10000.000000  10000.000000  10000.00000   \n",
      "mean   1.743977e+12  80786.265890  80835.023880  80739.047520  80786.43888   \n",
      "std    1.732137e+08   2677.674041   2660.416004   2694.732636   2677.77929   \n",
      "min    1.743677e+12  74584.200000  74702.500000  74456.200000  74584.20000   \n",
      "25%    1.743827e+12  78393.050000  78466.475000  78304.550000  78393.05000   \n",
      "50%    1.743977e+12  82001.750000  82051.300000  81960.850000  82002.50000   \n",
      "75%    1.744127e+12  83037.500000  83065.750000  83012.000000  83037.82500   \n",
      "max    1.744277e+12  84670.200000  84736.000000  84656.100000  84670.20000   \n",
      "\n",
      "             volume  \n",
      "count  10000.000000  \n",
      "mean     117.276068  \n",
      "std      205.675561  \n",
      "min        0.946000  \n",
      "25%       25.766500  \n",
      "50%       58.975000  \n",
      "75%      130.544500  \n",
      "max     4595.508000  \n"
     ]
    }
   ],
   "source": [
    "summary_stats = global_df.describe()\n",
    "print(summary_stats)"
   ]
  },
  {
   "cell_type": "markdown",
   "id": "51c1c964",
   "metadata": {},
   "source": [
    "Data Cleaning"
   ]
  },
  {
   "cell_type": "code",
   "execution_count": 15,
   "id": "eb6a960a",
   "metadata": {},
   "outputs": [
    {
     "name": "stdout",
     "output_type": "stream",
     "text": [
      "              start_time\n",
      "0    2025-04-03 10:37:00\n",
      "1    2025-04-03 10:38:00\n",
      "2    2025-04-03 10:39:00\n",
      "3    2025-04-03 10:40:00\n",
      "4    2025-04-03 10:41:00\n",
      "...                  ...\n",
      "9995 2025-04-10 09:12:00\n",
      "9996 2025-04-10 09:13:00\n",
      "9997 2025-04-10 09:14:00\n",
      "9998 2025-04-10 09:15:00\n",
      "9999 2025-04-10 09:16:00\n",
      "\n",
      "[10000 rows x 1 columns]\n"
     ]
    }
   ],
   "source": [
    "global_df['start_time'] = pd.to_datetime(global_df['start_time'], unit='ms')\n",
    "\n",
    "\n",
    "print(global_df[['start_time']])"
   ]
  },
  {
   "cell_type": "code",
   "execution_count": 16,
   "id": "c3d2787e",
   "metadata": {},
   "outputs": [
    {
     "data": {
      "text/html": [
       "<div>\n",
       "<style scoped>\n",
       "    .dataframe tbody tr th:only-of-type {\n",
       "        vertical-align: middle;\n",
       "    }\n",
       "\n",
       "    .dataframe tbody tr th {\n",
       "        vertical-align: top;\n",
       "    }\n",
       "\n",
       "    .dataframe thead th {\n",
       "        text-align: right;\n",
       "    }\n",
       "</style>\n",
       "<table border=\"1\" class=\"dataframe\">\n",
       "  <thead>\n",
       "    <tr style=\"text-align: right;\">\n",
       "      <th></th>\n",
       "      <th>start_time</th>\n",
       "      <th>close</th>\n",
       "      <th>high</th>\n",
       "      <th>low</th>\n",
       "      <th>open</th>\n",
       "      <th>volume</th>\n",
       "    </tr>\n",
       "  </thead>\n",
       "  <tbody>\n",
       "    <tr>\n",
       "      <th>0</th>\n",
       "      <td>2025-04-03 10:37:00</td>\n",
       "      <td>83338.9</td>\n",
       "      <td>83347.5</td>\n",
       "      <td>83263.5</td>\n",
       "      <td>83280.3</td>\n",
       "      <td>25.920</td>\n",
       "    </tr>\n",
       "    <tr>\n",
       "      <th>1</th>\n",
       "      <td>2025-04-03 10:38:00</td>\n",
       "      <td>83247.7</td>\n",
       "      <td>83343.4</td>\n",
       "      <td>83247.6</td>\n",
       "      <td>83338.9</td>\n",
       "      <td>22.916</td>\n",
       "    </tr>\n",
       "    <tr>\n",
       "      <th>2</th>\n",
       "      <td>2025-04-03 10:39:00</td>\n",
       "      <td>83241.8</td>\n",
       "      <td>83269.1</td>\n",
       "      <td>83232.1</td>\n",
       "      <td>83247.7</td>\n",
       "      <td>37.500</td>\n",
       "    </tr>\n",
       "    <tr>\n",
       "      <th>3</th>\n",
       "      <td>2025-04-03 10:40:00</td>\n",
       "      <td>83161.9</td>\n",
       "      <td>83259.1</td>\n",
       "      <td>83128.7</td>\n",
       "      <td>83241.8</td>\n",
       "      <td>122.577</td>\n",
       "    </tr>\n",
       "    <tr>\n",
       "      <th>4</th>\n",
       "      <td>2025-04-03 10:41:00</td>\n",
       "      <td>83140.0</td>\n",
       "      <td>83219.4</td>\n",
       "      <td>83128.1</td>\n",
       "      <td>83161.9</td>\n",
       "      <td>83.796</td>\n",
       "    </tr>\n",
       "  </tbody>\n",
       "</table>\n",
       "</div>"
      ],
      "text/plain": [
       "           start_time    close     high      low     open   volume\n",
       "0 2025-04-03 10:37:00  83338.9  83347.5  83263.5  83280.3   25.920\n",
       "1 2025-04-03 10:38:00  83247.7  83343.4  83247.6  83338.9   22.916\n",
       "2 2025-04-03 10:39:00  83241.8  83269.1  83232.1  83247.7   37.500\n",
       "3 2025-04-03 10:40:00  83161.9  83259.1  83128.7  83241.8  122.577\n",
       "4 2025-04-03 10:41:00  83140.0  83219.4  83128.1  83161.9   83.796"
      ]
     },
     "execution_count": 16,
     "metadata": {},
     "output_type": "execute_result"
    }
   ],
   "source": [
    "global_df.head()"
   ]
  },
  {
   "cell_type": "code",
   "execution_count": 17,
   "id": "ce3498a5",
   "metadata": {},
   "outputs": [
    {
     "data": {
      "text/html": [
       "<div>\n",
       "<style scoped>\n",
       "    .dataframe tbody tr th:only-of-type {\n",
       "        vertical-align: middle;\n",
       "    }\n",
       "\n",
       "    .dataframe tbody tr th {\n",
       "        vertical-align: top;\n",
       "    }\n",
       "\n",
       "    .dataframe thead th {\n",
       "        text-align: right;\n",
       "    }\n",
       "</style>\n",
       "<table border=\"1\" class=\"dataframe\">\n",
       "  <thead>\n",
       "    <tr style=\"text-align: right;\">\n",
       "      <th></th>\n",
       "      <th>start_time</th>\n",
       "      <th>close</th>\n",
       "      <th>high</th>\n",
       "      <th>low</th>\n",
       "      <th>open</th>\n",
       "      <th>volume</th>\n",
       "    </tr>\n",
       "  </thead>\n",
       "  <tbody>\n",
       "    <tr>\n",
       "      <th>9995</th>\n",
       "      <td>2025-04-10 09:12:00</td>\n",
       "      <td>81397.1</td>\n",
       "      <td>81404.5</td>\n",
       "      <td>81347.7</td>\n",
       "      <td>81347.8</td>\n",
       "      <td>40.110</td>\n",
       "    </tr>\n",
       "    <tr>\n",
       "      <th>9996</th>\n",
       "      <td>2025-04-10 09:13:00</td>\n",
       "      <td>81448.0</td>\n",
       "      <td>81449.9</td>\n",
       "      <td>81397.0</td>\n",
       "      <td>81397.1</td>\n",
       "      <td>59.519</td>\n",
       "    </tr>\n",
       "    <tr>\n",
       "      <th>9997</th>\n",
       "      <td>2025-04-10 09:14:00</td>\n",
       "      <td>81458.0</td>\n",
       "      <td>81458.0</td>\n",
       "      <td>81430.0</td>\n",
       "      <td>81448.0</td>\n",
       "      <td>53.089</td>\n",
       "    </tr>\n",
       "    <tr>\n",
       "      <th>9998</th>\n",
       "      <td>2025-04-10 09:15:00</td>\n",
       "      <td>81484.7</td>\n",
       "      <td>81503.4</td>\n",
       "      <td>81457.9</td>\n",
       "      <td>81458.0</td>\n",
       "      <td>38.530</td>\n",
       "    </tr>\n",
       "    <tr>\n",
       "      <th>9999</th>\n",
       "      <td>2025-04-10 09:16:00</td>\n",
       "      <td>81550.4</td>\n",
       "      <td>81550.5</td>\n",
       "      <td>81483.2</td>\n",
       "      <td>81484.7</td>\n",
       "      <td>42.394</td>\n",
       "    </tr>\n",
       "  </tbody>\n",
       "</table>\n",
       "</div>"
      ],
      "text/plain": [
       "              start_time    close     high      low     open  volume\n",
       "9995 2025-04-10 09:12:00  81397.1  81404.5  81347.7  81347.8  40.110\n",
       "9996 2025-04-10 09:13:00  81448.0  81449.9  81397.0  81397.1  59.519\n",
       "9997 2025-04-10 09:14:00  81458.0  81458.0  81430.0  81448.0  53.089\n",
       "9998 2025-04-10 09:15:00  81484.7  81503.4  81457.9  81458.0  38.530\n",
       "9999 2025-04-10 09:16:00  81550.4  81550.5  81483.2  81484.7  42.394"
      ]
     },
     "execution_count": 17,
     "metadata": {},
     "output_type": "execute_result"
    }
   ],
   "source": [
    "global_df.tail()"
   ]
  },
  {
   "cell_type": "code",
   "execution_count": 18,
   "id": "d8ce5d33",
   "metadata": {},
   "outputs": [
    {
     "name": "stdout",
     "output_type": "stream",
     "text": [
      "              start_time    close     high      low     open   volume\n",
      "0    2025-04-03 10:37:00  83338.9  83347.5  83263.5  83280.3   25.920\n",
      "1    2025-04-03 10:38:00  83247.7  83343.4  83247.6  83338.9   22.916\n",
      "2    2025-04-03 10:39:00  83241.8  83269.1  83232.1  83247.7   37.500\n",
      "3    2025-04-03 10:40:00  83161.9  83259.1  83128.7  83241.8  122.577\n",
      "4    2025-04-03 10:41:00  83140.0  83219.4  83128.1  83161.9   83.796\n",
      "...                  ...      ...      ...      ...      ...      ...\n",
      "9995 2025-04-10 09:12:00  81397.1  81404.5  81347.7  81347.8   40.110\n",
      "9996 2025-04-10 09:13:00  81448.0  81449.9  81397.0  81397.1   59.519\n",
      "9997 2025-04-10 09:14:00  81458.0  81458.0  81430.0  81448.0   53.089\n",
      "9998 2025-04-10 09:15:00  81484.7  81503.4  81457.9  81458.0   38.530\n",
      "9999 2025-04-10 09:16:00  81550.4  81550.5  81483.2  81484.7   42.394\n",
      "\n",
      "[10000 rows x 6 columns]\n"
     ]
    }
   ],
   "source": [
    "print(global_df)"
   ]
  },
  {
   "cell_type": "code",
   "execution_count": 19,
   "id": "469b483c",
   "metadata": {},
   "outputs": [
    {
     "data": {
      "text/plain": [
       "start_time    datetime64[ns]\n",
       "close                float64\n",
       "high                 float64\n",
       "low                  float64\n",
       "open                 float64\n",
       "volume               float64\n",
       "dtype: object"
      ]
     },
     "execution_count": 19,
     "metadata": {},
     "output_type": "execute_result"
    }
   ],
   "source": [
    "global_df.dtypes"
   ]
  },
  {
   "cell_type": "markdown",
   "id": "1330a706",
   "metadata": {},
   "source": [
    "Check missinng value"
   ]
  },
  {
   "cell_type": "code",
   "execution_count": 20,
   "id": "11078b55",
   "metadata": {},
   "outputs": [
    {
     "data": {
      "text/plain": [
       "start_time    0\n",
       "close         0\n",
       "high          0\n",
       "low           0\n",
       "open          0\n",
       "volume        0\n",
       "dtype: int64"
      ]
     },
     "execution_count": 20,
     "metadata": {},
     "output_type": "execute_result"
    }
   ],
   "source": [
    "global_df.isnull().sum()"
   ]
  },
  {
   "cell_type": "markdown",
   "id": "1886e499",
   "metadata": {},
   "source": [
    "Percentage of missing value"
   ]
  },
  {
   "cell_type": "code",
   "execution_count": 21,
   "id": "5a5c10cc",
   "metadata": {},
   "outputs": [
    {
     "data": {
      "text/plain": [
       "start_time    0.0\n",
       "close         0.0\n",
       "high          0.0\n",
       "low           0.0\n",
       "open          0.0\n",
       "volume        0.0\n",
       "dtype: float64"
      ]
     },
     "execution_count": 21,
     "metadata": {},
     "output_type": "execute_result"
    }
   ],
   "source": [
    "(global_df.isnull().sum()/(len(global_df)))*100"
   ]
  },
  {
   "cell_type": "markdown",
   "id": "81781a85",
   "metadata": {},
   "source": [
    "Check duplicate value"
   ]
  },
  {
   "cell_type": "code",
   "execution_count": 22,
   "id": "0b320868",
   "metadata": {},
   "outputs": [
    {
     "data": {
      "text/plain": [
       "start_time    10000\n",
       "close         10000\n",
       "high          10000\n",
       "low           10000\n",
       "open          10000\n",
       "volume        10000\n",
       "dtype: int64"
      ]
     },
     "execution_count": 22,
     "metadata": {},
     "output_type": "execute_result"
    }
   ],
   "source": [
    "global_df.count()"
   ]
  },
  {
   "cell_type": "code",
   "execution_count": 23,
   "id": "254f67b6",
   "metadata": {},
   "outputs": [
    {
     "data": {
      "text/plain": [
       "start_time    10000\n",
       "close          8868\n",
       "high           8498\n",
       "low            8462\n",
       "open           8868\n",
       "volume         9768\n",
       "dtype: int64"
      ]
     },
     "execution_count": 23,
     "metadata": {},
     "output_type": "execute_result"
    }
   ],
   "source": [
    "global_df.nunique()"
   ]
  },
  {
   "cell_type": "code",
   "execution_count": 24,
   "id": "bb0f4610",
   "metadata": {},
   "outputs": [
    {
     "name": "stdout",
     "output_type": "stream",
     "text": [
      "Empty DataFrame\n",
      "Columns: [start_time, close, high, low, open, volume]\n",
      "Index: []\n"
     ]
    }
   ],
   "source": [
    "duplicate_rows = global_df.duplicated()\n",
    "\n",
    "# Display rows with duplicates\n",
    "duplicate_rows_df = global_df[duplicate_rows]\n",
    "print(duplicate_rows_df)"
   ]
  },
  {
   "cell_type": "code",
   "execution_count": 25,
   "id": "b71a6f52",
   "metadata": {},
   "outputs": [
    {
     "data": {
      "text/html": [
       "<div>\n",
       "<style scoped>\n",
       "    .dataframe tbody tr th:only-of-type {\n",
       "        vertical-align: middle;\n",
       "    }\n",
       "\n",
       "    .dataframe tbody tr th {\n",
       "        vertical-align: top;\n",
       "    }\n",
       "\n",
       "    .dataframe thead th {\n",
       "        text-align: right;\n",
       "    }\n",
       "</style>\n",
       "<table border=\"1\" class=\"dataframe\">\n",
       "  <thead>\n",
       "    <tr style=\"text-align: right;\">\n",
       "      <th></th>\n",
       "      <th>start_time</th>\n",
       "      <th>close</th>\n",
       "      <th>high</th>\n",
       "      <th>low</th>\n",
       "      <th>open</th>\n",
       "      <th>volume</th>\n",
       "    </tr>\n",
       "  </thead>\n",
       "  <tbody>\n",
       "    <tr>\n",
       "      <th>0</th>\n",
       "      <td>2025-04-03 10:37:00</td>\n",
       "      <td>83338.9</td>\n",
       "      <td>83347.5</td>\n",
       "      <td>83263.5</td>\n",
       "      <td>83280.3</td>\n",
       "      <td>25.920</td>\n",
       "    </tr>\n",
       "    <tr>\n",
       "      <th>1</th>\n",
       "      <td>2025-04-03 10:38:00</td>\n",
       "      <td>83247.7</td>\n",
       "      <td>83343.4</td>\n",
       "      <td>83247.6</td>\n",
       "      <td>83338.9</td>\n",
       "      <td>22.916</td>\n",
       "    </tr>\n",
       "    <tr>\n",
       "      <th>2</th>\n",
       "      <td>2025-04-03 10:39:00</td>\n",
       "      <td>83241.8</td>\n",
       "      <td>83269.1</td>\n",
       "      <td>83232.1</td>\n",
       "      <td>83247.7</td>\n",
       "      <td>37.500</td>\n",
       "    </tr>\n",
       "    <tr>\n",
       "      <th>3</th>\n",
       "      <td>2025-04-03 10:40:00</td>\n",
       "      <td>83161.9</td>\n",
       "      <td>83259.1</td>\n",
       "      <td>83128.7</td>\n",
       "      <td>83241.8</td>\n",
       "      <td>122.577</td>\n",
       "    </tr>\n",
       "    <tr>\n",
       "      <th>4</th>\n",
       "      <td>2025-04-03 10:41:00</td>\n",
       "      <td>83140.0</td>\n",
       "      <td>83219.4</td>\n",
       "      <td>83128.1</td>\n",
       "      <td>83161.9</td>\n",
       "      <td>83.796</td>\n",
       "    </tr>\n",
       "  </tbody>\n",
       "</table>\n",
       "</div>"
      ],
      "text/plain": [
       "           start_time    close     high      low     open   volume\n",
       "0 2025-04-03 10:37:00  83338.9  83347.5  83263.5  83280.3   25.920\n",
       "1 2025-04-03 10:38:00  83247.7  83343.4  83247.6  83338.9   22.916\n",
       "2 2025-04-03 10:39:00  83241.8  83269.1  83232.1  83247.7   37.500\n",
       "3 2025-04-03 10:40:00  83161.9  83259.1  83128.7  83241.8  122.577\n",
       "4 2025-04-03 10:41:00  83140.0  83219.4  83128.1  83161.9   83.796"
      ]
     },
     "execution_count": 25,
     "metadata": {},
     "output_type": "execute_result"
    }
   ],
   "source": [
    "global_df.head()"
   ]
  },
  {
   "cell_type": "markdown",
   "id": "ac4c25ad",
   "metadata": {},
   "source": [
    "Exploratory Data Analysis"
   ]
  },
  {
   "cell_type": "code",
   "execution_count": 32,
   "id": "172b8fa9",
   "metadata": {},
   "outputs": [
    {
     "data": {
      "image/png": "[encoded data removed]",
      "text/plain": [
       "<Figure size 1000x500 with 1 Axes>"
      ]
     },
     "metadata": {},
     "output_type": "display_data"
    }
   ],
   "source": [
    "from matplotlib.dates import DateFormatter\n",
    "\n",
    "# Convert your time column\n",
    "global_df['start_time'] = pd.to_datetime(global_df['start_time'])\n",
    "\n",
    "# Get last 100 rows\n",
    "df_last = global_df.tail(100)\n",
    "\n",
    "# Plot\n",
    "fig, ax = plt.subplots(figsize=(10, 5))\n",
    "ax.plot(df_last['start_time'], df_last['close'], label='Close Price')\n",
    "\n",
    "# Set custom date format\n",
    "date_fmt = DateFormatter('%d/%m/%Y %H:%M')  # Example: 10/04/2025 07:45\n",
    "ax.xaxis.set_major_formatter(date_fmt)\n",
    "\n",
    "# Labeling\n",
    "ax.set_title('Close Price (Last 100 Points)')\n",
    "ax.set_xlabel('Time')\n",
    "ax.set_ylabel('Price')\n",
    "ax.legend()\n",
    "plt.xticks(rotation=45)\n",
    "plt.tight_layout()\n",
    "plt.show()\n"
   ]
  },
  {
   "cell_type": "markdown",
   "id": "e6ea04b3",
   "metadata": {},
   "source": [
    " Uptrend: Initial steady rise in price from around 07:45 to ~08:15.\n",
    "\n",
    " Volatility: Sharp ups and downs between 08:15 and 08:30.\n",
    "\n",
    " Downtrend: Significant drop observed from ~08:30 to ~09:00.\n",
    "\n",
    " Mild Recovery: Slight upward movement toward the end of the period."
   ]
  }
 ],
 "metadata": {
  "kernelspec": {
   "display_name": "base",
   "language": "python",
   "name": "python3"
  },
  "language_info": {
   "codemirror_mode": {
    "name": "ipython",
    "version": 3
   },
   "file_extension": ".py",
   "mimetype": "text/x-python",
   "name": "python",
   "nbconvert_exporter": "python",
   "pygments_lexer": "ipython3",
   "version": "3.12.4"
  }
 },
 "nbformat": 4,
 "nbformat_minor": 5
}
